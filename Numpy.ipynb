{
  "nbformat": 4,
  "nbformat_minor": 0,
  "metadata": {
    "colab": {
      "provenance": [],
      "authorship_tag": "ABX9TyPRByzKKbOfx8WOaJiQpTxT",
      "include_colab_link": true
    },
    "kernelspec": {
      "name": "python3",
      "display_name": "Python 3"
    },
    "language_info": {
      "name": "python"
    }
  },
  "cells": [
    {
      "cell_type": "markdown",
      "metadata": {
        "id": "view-in-github",
        "colab_type": "text"
      },
      "source": [
        "<a href=\"https://colab.research.google.com/github/umanggupta598/umang-codes/blob/main/Numpy.ipynb\" target=\"_parent\"><img src=\"https://colab.research.google.com/assets/colab-badge.svg\" alt=\"Open In Colab\"/></a>"
      ]
    },
    {
      "cell_type": "code",
      "execution_count": null,
      "metadata": {
        "colab": {
          "base_uri": "https://localhost:8080/"
        },
        "id": "EYfmzEyetVQU",
        "outputId": "129129a8-d889-4a9f-ad97-70ac20efdfd5"
      },
      "outputs": [
        {
          "output_type": "stream",
          "name": "stdout",
          "text": [
            "[list([2, 3, 1]) 'New York' 5.6 -10 'John']\n"
          ]
        }
      ],
      "source": [
        "import numpy as np\n",
        "mixed_list = [[2, 3, 1], 'New York', 5.6, -10, 'John']\n",
        "\n",
        "# Setting providing implicit data type 'object'\n",
        "np_arr = np.array(object = mixed_list, dtype = object)\n",
        "print(np_arr)"
      ]
    },
    {
      "cell_type": "code",
      "source": [
        "list1 = [1,2,3]\n",
        "list2 = [4,5,6]\n",
        "\n",
        "multidim = np.array([list1, list2])\n",
        "print(multidim)"
      ],
      "metadata": {
        "colab": {
          "base_uri": "https://localhost:8080/"
        },
        "id": "ZqTXBeH1vmiF",
        "outputId": "fd31898c-2234-4e74-d1a1-0e5222317125"
      },
      "execution_count": null,
      "outputs": [
        {
          "output_type": "stream",
          "name": "stdout",
          "text": [
            "[[1 2 3]\n",
            " [4 5 6]]\n"
          ]
        }
      ]
    },
    {
      "cell_type": "code",
      "source": [
        "list3 = [7,8,9]\n",
        "list4 = [10,11,12]\n",
        "\n",
        "multidim2 = np.array([list3, list4])\n",
        "\n",
        "print([multidim],[multidim2])"
      ],
      "metadata": {
        "colab": {
          "base_uri": "https://localhost:8080/"
        },
        "id": "-78J7Y4nyIdB",
        "outputId": "fa4a1bce-54d2-45ce-c0b2-55915ab444a2"
      },
      "execution_count": null,
      "outputs": [
        {
          "output_type": "stream",
          "name": "stdout",
          "text": [
            "[[array([[1, 2, 3],\n",
            "       [4, 5, 6]])], [array([[ 7,  8,  9],\n",
            "       [10, 11, 12]])]]\n"
          ]
        }
      ]
    },
    {
      "cell_type": "code",
      "source": [
        "list_3_dimensional = [[[1, 2, 3], [4, 5, 6]],\n",
        "      [[7, 8, 9], [10, 11, 12]],\n",
        "      [[13, 14, 15], [16, 17, 18]] , [[1, 2, 3], [4, 5, 6]],\n",
        "      [[7, 8, 9], [10, 11, 12]],\n",
        "      [[13, 14, 15], [16, 17, 18]]]\n",
        "\n",
        "list2_3_dimensional = [[[1, 2, 3], [4, 5, 6]],\n",
        "      [[7, 8, 9], [10, 11, 12]],\n",
        "      [[13, 14, 15], [16, 17, 18]] , [[1, 2, 3], [4, 5, 6]],\n",
        "      [[7, 8, 9], [10, 11, 12]],\n",
        "      [[13, 14, 15], [16, 17, 18]]]\n",
        "\n",
        "# Creating a 3_dimensional array from 'list_3_dimensional'\n",
        "np_arr = np.array([list_3_dimensional, list2_3_dimensional])\n",
        "\n",
        "print(np_arr)\n"
      ],
      "metadata": {
        "colab": {
          "base_uri": "https://localhost:8080/"
        },
        "id": "LCU2aGtOyhc2",
        "outputId": "055a449d-4c7e-4bdf-99d4-3ef6e1fa9b02"
      },
      "execution_count": null,
      "outputs": [
        {
          "output_type": "stream",
          "name": "stdout",
          "text": [
            "[[[[ 1  2  3]\n",
            "   [ 4  5  6]]\n",
            "\n",
            "  [[ 7  8  9]\n",
            "   [10 11 12]]\n",
            "\n",
            "  [[13 14 15]\n",
            "   [16 17 18]]\n",
            "\n",
            "  [[ 1  2  3]\n",
            "   [ 4  5  6]]\n",
            "\n",
            "  [[ 7  8  9]\n",
            "   [10 11 12]]\n",
            "\n",
            "  [[13 14 15]\n",
            "   [16 17 18]]]\n",
            "\n",
            "\n",
            " [[[ 1  2  3]\n",
            "   [ 4  5  6]]\n",
            "\n",
            "  [[ 7  8  9]\n",
            "   [10 11 12]]\n",
            "\n",
            "  [[13 14 15]\n",
            "   [16 17 18]]\n",
            "\n",
            "  [[ 1  2  3]\n",
            "   [ 4  5  6]]\n",
            "\n",
            "  [[ 7  8  9]\n",
            "   [10 11 12]]\n",
            "\n",
            "  [[13 14 15]\n",
            "   [16 17 18]]]]\n"
          ]
        }
      ]
    },
    {
      "cell_type": "code",
      "source": [
        "np_arr = np.array([[1, -1], [0, 1]])\n",
        "\n",
        "# Getting the dimension in np_arr\n",
        "num_of_dim = np_arr.ndim\n",
        "print(num_of_dim)\n",
        "print(np_arr)\n",
        "print(np_arr.size)\n",
        "print(np_arr.shape)"
      ],
      "metadata": {
        "colab": {
          "base_uri": "https://localhost:8080/"
        },
        "id": "Dz45lF4tGSQl",
        "outputId": "6a85eb60-b46b-4853-cb02-3ef9d3b273f0"
      },
      "execution_count": null,
      "outputs": [
        {
          "output_type": "stream",
          "name": "stdout",
          "text": [
            "2\n",
            "[[ 1 -1]\n",
            " [ 0  1]]\n",
            "4\n",
            "(2, 2)\n"
          ]
        }
      ]
    },
    {
      "cell_type": "code",
      "source": [
        "nparray = np.arange(30).reshape(5,2,3)\n",
        "print(nparray)"
      ],
      "metadata": {
        "colab": {
          "base_uri": "https://localhost:8080/"
        },
        "id": "nPvoaJ3RSWW7",
        "outputId": "0796654c-5e53-4028-ed79-597d35b17a03"
      },
      "execution_count": null,
      "outputs": [
        {
          "output_type": "stream",
          "name": "stdout",
          "text": [
            "[[[ 0  1  2]\n",
            "  [ 3  4  5]]\n",
            "\n",
            " [[ 6  7  8]\n",
            "  [ 9 10 11]]\n",
            "\n",
            " [[12 13 14]\n",
            "  [15 16 17]]\n",
            "\n",
            " [[18 19 20]\n",
            "  [21 22 23]]\n",
            "\n",
            " [[24 25 26]\n",
            "  [27 28 29]]]\n"
          ]
        }
      ]
    },
    {
      "cell_type": "code",
      "source": [
        "#slicing\n",
        "print(nparray[:5:2, 0:2, 0:3:2])"
      ],
      "metadata": {
        "colab": {
          "base_uri": "https://localhost:8080/"
        },
        "id": "TMuHOcnxurMO",
        "outputId": "45a0c753-8c61-4f83-aa6c-2dcd2cb90e6d"
      },
      "execution_count": null,
      "outputs": [
        {
          "output_type": "stream",
          "name": "stdout",
          "text": [
            "[[[ 0  2]\n",
            "  [ 3  5]]\n",
            "\n",
            " [[12 14]\n",
            "  [15 17]]\n",
            "\n",
            " [[24 26]\n",
            "  [27 29]]]\n"
          ]
        }
      ]
    },
    {
      "cell_type": "code",
      "source": [
        "import numpy as np\n",
        "str_arr = np.array(object = [['apple', 'banana', 'cherry'],\n",
        "                             ['date', 'fig', 'grape'],\n",
        "                             ['kiwi', 'lemon', 'mango']])\n",
        "print(str_arr)"
      ],
      "metadata": {
        "id": "FL852h0PzFPF",
        "colab": {
          "base_uri": "https://localhost:8080/"
        },
        "outputId": "78b08516-6df2-46cb-be60-c3e2978ae735"
      },
      "execution_count": null,
      "outputs": [
        {
          "output_type": "stream",
          "name": "stdout",
          "text": [
            "[['apple' 'banana' 'cherry']\n",
            " ['date' 'fig' 'grape']\n",
            " ['kiwi' 'lemon' 'mango']]\n"
          ]
        }
      ]
    },
    {
      "cell_type": "code",
      "source": [
        "str_arr[1,1]"
      ],
      "metadata": {
        "colab": {
          "base_uri": "https://localhost:8080/",
          "height": 36
        },
        "id": "ESnwnHYVmzQe",
        "outputId": "156baa62-1aab-4898-cc47-f72f2a162660"
      },
      "execution_count": null,
      "outputs": [
        {
          "output_type": "execute_result",
          "data": {
            "text/plain": [
              "'fig'"
            ],
            "application/vnd.google.colaboratory.intrinsic+json": {
              "type": "string"
            }
          },
          "metadata": {},
          "execution_count": 4
        }
      ]
    },
    {
      "cell_type": "code",
      "source": [
        "\n",
        "str_arr[1][1]"
      ],
      "metadata": {
        "colab": {
          "base_uri": "https://localhost:8080/",
          "height": 36
        },
        "id": "2jQgfNsRnAsx",
        "outputId": "dc699857-d542-4f4e-c5f5-ca98e88ebbee"
      },
      "execution_count": null,
      "outputs": [
        {
          "output_type": "execute_result",
          "data": {
            "text/plain": [
              "'fig'"
            ],
            "application/vnd.google.colaboratory.intrinsic+json": {
              "type": "string"
            }
          },
          "metadata": {},
          "execution_count": 5
        }
      ]
    },
    {
      "cell_type": "code",
      "source": [
        "arr = np.array([[[1, 2, 3, 4], [5, 6, 7, 8], [9, 10, 11, 12]],\n",
        "                [[13, 14, 15, 16], [17, 18, 19, 20], [21, 22, 23, 24]]])\n",
        "print(arr)"
      ],
      "metadata": {
        "colab": {
          "base_uri": "https://localhost:8080/"
        },
        "id": "9_0LHKKtnfwH",
        "outputId": "c5d4ef8b-34d6-4d5a-ed70-1e20d8271ee9"
      },
      "execution_count": null,
      "outputs": [
        {
          "output_type": "stream",
          "name": "stdout",
          "text": [
            "[[[ 1  2  3  4]\n",
            "  [ 5  6  7  8]\n",
            "  [ 9 10 11 12]]\n",
            "\n",
            " [[13 14 15 16]\n",
            "  [17 18 19 20]\n",
            "  [21 22 23 24]]]\n"
          ]
        }
      ]
    },
    {
      "cell_type": "code",
      "source": [
        "import numpy as np\n",
        "arr = np.array([[[1, 2, 3, 4], [5, 6, 7, 8], [9, 10, 11, 12]],\n",
        "                [[13, 14, 15, 16], [17, 18, 19, 20], [21, 22, 23, 24]]])\n",
        "\n",
        "print(arr)"
      ],
      "metadata": {
        "colab": {
          "base_uri": "https://localhost:8080/"
        },
        "id": "Gl0R4HoVBdxz",
        "outputId": "d7eeefbf-bd18-45f7-8b45-6e15f2a75219"
      },
      "execution_count": null,
      "outputs": [
        {
          "output_type": "stream",
          "name": "stdout",
          "text": [
            "[[[ 1  2  3  4]\n",
            "  [ 5  6  7  8]\n",
            "  [ 9 10 11 12]]\n",
            "\n",
            " [[13 14 15 16]\n",
            "  [17 18 19 20]\n",
            "  [21 22 23 24]]]\n"
          ]
        }
      ]
    },
    {
      "cell_type": "code",
      "source": [
        "# Accessing the last array of the last 2-dimensional array of 'arr'\n",
        "last_2_dimensional = arr[1, 2]\n",
        "print(last_2_dimensional)"
      ],
      "metadata": {
        "colab": {
          "base_uri": "https://localhost:8080/"
        },
        "id": "UBnkg9v2x0ZI",
        "outputId": "5b2fdf78-ad06-4a22-c1ea-825b10535d6c"
      },
      "execution_count": null,
      "outputs": [
        {
          "output_type": "stream",
          "name": "stdout",
          "text": [
            "[21 22 23 24]\n"
          ]
        }
      ]
    },
    {
      "cell_type": "code",
      "source": [
        "print(arr[1])"
      ],
      "metadata": {
        "colab": {
          "base_uri": "https://localhost:8080/"
        },
        "id": "rkegFqf1x9Hw",
        "outputId": "c27e6563-89fe-4234-c626-211fb2352a4a"
      },
      "execution_count": null,
      "outputs": [
        {
          "output_type": "stream",
          "name": "stdout",
          "text": [
            "[[13 14 15 16]\n",
            " [17 18 19 20]\n",
            " [21 22 23 24]]\n"
          ]
        }
      ]
    },
    {
      "cell_type": "code",
      "source": [
        "print(arr[1,2,0])"
      ],
      "metadata": {
        "colab": {
          "base_uri": "https://localhost:8080/"
        },
        "id": "ATr3LxW5yDTY",
        "outputId": "50ec61da-76ca-42ec-f06a-af6d3f8fc12e"
      },
      "execution_count": null,
      "outputs": [
        {
          "output_type": "stream",
          "name": "stdout",
          "text": [
            "21\n"
          ]
        }
      ]
    },
    {
      "cell_type": "code",
      "source": [
        "print(arr[-2,-1,-3])"
      ],
      "metadata": {
        "colab": {
          "base_uri": "https://localhost:8080/"
        },
        "id": "Cp4eh6gsyMjO",
        "outputId": "ee9c4a68-2e75-47e7-9d57-f63f7055f6bd"
      },
      "execution_count": null,
      "outputs": [
        {
          "output_type": "stream",
          "name": "stdout",
          "text": [
            "10\n"
          ]
        }
      ]
    },
    {
      "cell_type": "code",
      "source": [
        "import numpy as np\n",
        "np_arr = np.array([[1, 2, 3], [4, 5, 6]])\n",
        "condition = (np_arr > 2) | (np_arr < 5)\n",
        "\n",
        "print(np_arr[(np_arr > 2) & (np_arr < 5)])\n",
        "\n",
        "print(condition)"
      ],
      "metadata": {
        "colab": {
          "base_uri": "https://localhost:8080/"
        },
        "id": "Mncx69KOykqg",
        "outputId": "fd2dd742-fe54-494f-a030-f9ecac050249"
      },
      "execution_count": null,
      "outputs": [
        {
          "output_type": "stream",
          "name": "stdout",
          "text": [
            "[3 4]\n",
            "[[ True  True  True]\n",
            " [ True  True  True]]\n"
          ]
        }
      ]
    },
    {
      "cell_type": "code",
      "source": [
        "num_arr = np.array([23, 56, 87, 25, 64, 82, 64, 36, 87, 56, 98, 15, 25, 35, 76, 36, 67, 89, 35, 67, 64, 45, 37, 78])\n",
        "\n",
        "count_elements = len(num_arr[num_arr > 50])"
      ],
      "metadata": {
        "id": "hOFZamEN0fJ4"
      },
      "execution_count": null,
      "outputs": []
    },
    {
      "cell_type": "code",
      "source": [
        "print(count_elements)"
      ],
      "metadata": {
        "colab": {
          "base_uri": "https://localhost:8080/"
        },
        "id": "Hay7U-aU2iPv",
        "outputId": "c7d3df54-43c9-4fce-964e-1ef7462b5146"
      },
      "execution_count": null,
      "outputs": [
        {
          "output_type": "stream",
          "name": "stdout",
          "text": [
            "14\n"
          ]
        }
      ]
    },
    {
      "cell_type": "code",
      "source": [
        "A = np.array([[[1, 2, 3], [4, 5, 6]],\n",
        "     [[7, 8, 9], [10, 11, 12]]])\n",
        "\n",
        "B = np.array([[[13, 14, 15], [16, 17, 18]],\n",
        "     [[19, 20, 21], [22, 23, 24]]])\n",
        "\n",
        "# Performing sum\n",
        "sum_arr = A + B\n",
        "\n",
        "sum_arr"
      ],
      "metadata": {
        "id": "0woaT9GX2l8L",
        "colab": {
          "base_uri": "https://localhost:8080/"
        },
        "outputId": "21b3840d-0a11-4678-bd0f-092e8f451831"
      },
      "execution_count": null,
      "outputs": [
        {
          "output_type": "execute_result",
          "data": {
            "text/plain": [
              "array([[[14, 16, 18],\n",
              "        [20, 22, 24]],\n",
              "\n",
              "       [[26, 28, 30],\n",
              "        [32, 34, 36]]])"
            ]
          },
          "metadata": {},
          "execution_count": 7
        }
      ]
    },
    {
      "cell_type": "code",
      "source": [
        "import numpy as np\n",
        "np_arr = np.array([['Abhinav', 'Bhaskar', 'Manisha'],\n",
        "                   ['EMP0046', 'EMP1218', 'EMP9453'],\n",
        "                   [42, 34, 27]])\n",
        "\n",
        "new = np.array([['Priya', 'EMP4251', 22], ['Rashid', 'EMP8576', 26]])\n",
        "\n",
        "np_arr[:, 1:] = new.T.reshape(3,2)\n",
        "\n",
        "print(np_arr)"
      ],
      "metadata": {
        "id": "5QlcKcDnW1EM",
        "colab": {
          "base_uri": "https://localhost:8080/"
        },
        "outputId": "f67bb8a7-7f14-49e2-b84a-66a19286ae5f"
      },
      "execution_count": null,
      "outputs": [
        {
          "output_type": "stream",
          "name": "stdout",
          "text": [
            "[['Abhinav' 'Priya' 'Rashid']\n",
            " ['EMP0046' 'EMP4251' 'EMP8576']\n",
            " ['42' '22' '26']]\n"
          ]
        }
      ]
    },
    {
      "cell_type": "code",
      "source": [
        "import numpy as np\n",
        "np_arr = np.array([['Abhinav', 'Bhaskar', 'Manisha'],\n",
        "                   ['EMP0046', 'EMP1218', 'EMP9453'],\n",
        "                   [42, 34, 27]])\n",
        "\n",
        "new = np.array([['Priya', 'EMP4251', 22], ['Rashidi', 'EMP8576', 26]])\n",
        "\n",
        "np_arr[:, 1:] = new.T\n",
        "print(np_arr)"
      ],
      "metadata": {
        "colab": {
          "base_uri": "https://localhost:8080/"
        },
        "id": "XgeJrzGcKdQd",
        "outputId": "a405e53c-283b-4cca-8ef9-4301e60e28bd"
      },
      "execution_count": null,
      "outputs": [
        {
          "output_type": "stream",
          "name": "stdout",
          "text": [
            "[['Abhinav' 'Priya' 'Rashidi']\n",
            " ['EMP0046' 'EMP4251' 'EMP8576']\n",
            " ['42' '22' '26']]\n"
          ]
        }
      ]
    },
    {
      "cell_type": "code",
      "source": [
        "import numpy as np\n",
        "np_arr = np.array([['Abhinav', 'Bhaskar', 'Manisha'],\n",
        "                   ['EMP0046', 'EMP1218', 'EMP9453'],\n",
        "                   [42, 34, 27]])\n",
        "\n",
        "new = np.array([['Priya', 'EMP4251', 22], ['Rashmi', 'EMP8576', 26]])\n",
        "\n",
        "np_arr[:, 1:] = new.transpose()\n",
        "print(np_arr)"
      ],
      "metadata": {
        "colab": {
          "base_uri": "https://localhost:8080/"
        },
        "id": "y4eQdkT8RJ4A",
        "outputId": "250b09d3-a071-485b-94ac-ba017d5fb802"
      },
      "execution_count": null,
      "outputs": [
        {
          "output_type": "stream",
          "name": "stdout",
          "text": [
            "[['Abhinav' 'Priya' 'Rashmi']\n",
            " ['EMP0046' 'EMP4251' 'EMP8576']\n",
            " ['42' '22' '26']]\n"
          ]
        }
      ]
    },
    {
      "cell_type": "code",
      "source": [
        "new = np.array([['Priya', 'EMP4251', 22], ['Rashmi', 'EMP8576', 26]])\n",
        "print(new)\n"
      ],
      "metadata": {
        "colab": {
          "base_uri": "https://localhost:8080/"
        },
        "id": "fwEnfPMtR1en",
        "outputId": "60a702e2-668b-4f16-d24c-79df4c2d41c1"
      },
      "execution_count": null,
      "outputs": [
        {
          "output_type": "stream",
          "name": "stdout",
          "text": [
            "[['Priya' 'EMP4251' '22']\n",
            " ['Rashmi' 'EMP8576' '26']]\n"
          ]
        }
      ]
    },
    {
      "cell_type": "code",
      "source": [
        "print(new.T)"
      ],
      "metadata": {
        "colab": {
          "base_uri": "https://localhost:8080/"
        },
        "id": "6onSZ4Y8SU5C",
        "outputId": "303d26a6-a1f6-4b01-ade8-d8b5a3a5375b"
      },
      "execution_count": null,
      "outputs": [
        {
          "output_type": "stream",
          "name": "stdout",
          "text": [
            "[['Priya' 'Rashmi']\n",
            " ['EMP4251' 'EMP8576']\n",
            " ['22' '26']]\n"
          ]
        }
      ]
    },
    {
      "cell_type": "code",
      "source": [
        "print(new.reshape(3,2))"
      ],
      "metadata": {
        "colab": {
          "base_uri": "https://localhost:8080/"
        },
        "id": "xQsvaeFxSZMC",
        "outputId": "f1b9416b-0c51-4d27-f5e8-04ce1516d16f"
      },
      "execution_count": null,
      "outputs": [
        {
          "output_type": "stream",
          "name": "stdout",
          "text": [
            "[['Priya' 'EMP4251']\n",
            " ['22' 'Rashmi']\n",
            " ['EMP8576' '26']]\n"
          ]
        }
      ]
    },
    {
      "cell_type": "code",
      "source": [
        "check = np.array( [1.0, 2, 3.5, 0.2, True] )\n",
        "print(check, check.ndim, check.dtype, check.size, check.shape)"
      ],
      "metadata": {
        "colab": {
          "base_uri": "https://localhost:8080/"
        },
        "id": "xnxP1zE3Shs7",
        "outputId": "fb6d2803-1451-4a92-c515-7a206b568719"
      },
      "execution_count": null,
      "outputs": [
        {
          "output_type": "stream",
          "name": "stdout",
          "text": [
            "[1.  2.  3.5 0.2 1. ] 1 float64 5 (5,)\n"
          ]
        }
      ]
    },
    {
      "cell_type": "code",
      "source": [
        "arr1 = np.array([1, 2, 3])\n",
        "arr2 = np.array([4, 5, 6])\n",
        "result = arr1 + arr2\n",
        "print(result)"
      ],
      "metadata": {
        "colab": {
          "base_uri": "https://localhost:8080/"
        },
        "id": "9K_b9dGCU1ZE",
        "outputId": "5755dd1e-cf24-4254-cdca-409fd8cef4f9"
      },
      "execution_count": null,
      "outputs": [
        {
          "output_type": "stream",
          "name": "stdout",
          "text": [
            "[5 7 9]\n"
          ]
        }
      ]
    },
    {
      "cell_type": "code",
      "source": [
        "np_arr = np.array([[100, 200, 300], [400, 500, 600], [700, 800, 900]])\n",
        "print(np_arr)\n",
        "print(np_arr.reshape(-1))\n",
        "print(np_arr)\n",
        "print(np_arr.reshape(-9))"
      ],
      "metadata": {
        "colab": {
          "base_uri": "https://localhost:8080/"
        },
        "id": "k3Lz6wn0W3JG",
        "outputId": "b1ad601d-b936-4f23-d91f-97111c6a681f"
      },
      "execution_count": null,
      "outputs": [
        {
          "output_type": "stream",
          "name": "stdout",
          "text": [
            "[[100 200 300]\n",
            " [400 500 600]\n",
            " [700 800 900]]\n",
            "[100 200 300 400 500 600 700 800 900]\n",
            "[[100 200 300]\n",
            " [400 500 600]\n",
            " [700 800 900]]\n",
            "[100 200 300 400 500 600 700 800 900]\n"
          ]
        }
      ]
    },
    {
      "cell_type": "code",
      "source": [
        "np_arr = np.array([100, 200, 300])\n",
        "print(np_arr)"
      ],
      "metadata": {
        "colab": {
          "base_uri": "https://localhost:8080/"
        },
        "id": "ON8Zw8BaYEHn",
        "outputId": "1b05ef07-7409-468f-ddce-08860c922f24"
      },
      "execution_count": null,
      "outputs": [
        {
          "output_type": "stream",
          "name": "stdout",
          "text": [
            "[100 200 300]\n"
          ]
        }
      ]
    },
    {
      "cell_type": "code",
      "source": [
        "print(np_arr.reshape(-1,1))"
      ],
      "metadata": {
        "colab": {
          "base_uri": "https://localhost:8080/"
        },
        "id": "JAX-u8KFZnOP",
        "outputId": "d78d6a03-2358-4ca7-db24-e2ce3b6d0bc2"
      },
      "execution_count": null,
      "outputs": [
        {
          "output_type": "stream",
          "name": "stdout",
          "text": [
            "[[100]\n",
            " [200]\n",
            " [300]]\n"
          ]
        }
      ]
    },
    {
      "cell_type": "code",
      "source": [
        "print(np_arr.reshape(1,-1))"
      ],
      "metadata": {
        "colab": {
          "base_uri": "https://localhost:8080/"
        },
        "id": "IPKeKCqhZrew",
        "outputId": "e9460e6b-974e-40fa-8a93-8c61e2b3d02a"
      },
      "execution_count": null,
      "outputs": [
        {
          "output_type": "stream",
          "name": "stdout",
          "text": [
            "[[100 200 300]]\n"
          ]
        }
      ]
    },
    {
      "cell_type": "code",
      "source": [
        "np_arr = np.array([[1, 5], [-5, 2], [3, 1]])\n",
        "des_arr = np.array([[1, -5], [5, 2], [4, -6]])\n",
        "print(np_arr)\n",
        "print(des_arr)\n"
      ],
      "metadata": {
        "colab": {
          "base_uri": "https://localhost:8080/"
        },
        "id": "Ma7OZ9T6Z_5s",
        "outputId": "a19edd92-ec8f-4737-dc44-1761aca5c2f4"
      },
      "execution_count": null,
      "outputs": [
        {
          "output_type": "stream",
          "name": "stdout",
          "text": [
            "[[ 1  5]\n",
            " [-5  2]\n",
            " [ 3  1]]\n",
            "[[ 1 -5]\n",
            " [ 5  2]\n",
            " [ 4 -6]]\n"
          ]
        }
      ]
    },
    {
      "cell_type": "code",
      "source": [
        "print(np_arr.T.reshape(3,2))"
      ],
      "metadata": {
        "colab": {
          "base_uri": "https://localhost:8080/"
        },
        "id": "VRlibZJqbKm4",
        "outputId": "108c527a-8b6e-4762-c69d-1cd832393499"
      },
      "execution_count": null,
      "outputs": [
        {
          "output_type": "stream",
          "name": "stdout",
          "text": [
            "[[ 1 -5]\n",
            " [ 3  5]\n",
            " [ 2  1]]\n"
          ]
        }
      ]
    },
    {
      "cell_type": "code",
      "source": [
        "change = np.delete(np_arr,2, axis=0)\n",
        "change"
      ],
      "metadata": {
        "colab": {
          "base_uri": "https://localhost:8080/"
        },
        "id": "drrMkp9ybnFv",
        "outputId": "af27cbd5-c7c8-4337-ab8c-b6b390cfcb5c"
      },
      "execution_count": null,
      "outputs": [
        {
          "output_type": "execute_result",
          "data": {
            "text/plain": [
              "array([[ 1,  5],\n",
              "       [-5,  2]])"
            ]
          },
          "metadata": {},
          "execution_count": 52
        }
      ]
    },
    {
      "cell_type": "code",
      "source": [
        "change1 = np.append(change,[[4,-6]], axis=0)\n",
        "print(change1)"
      ],
      "metadata": {
        "colab": {
          "base_uri": "https://localhost:8080/"
        },
        "id": "IC59t1H0cW3p",
        "outputId": "c3bef8a8-48c0-4367-bf27-2e4c9ade5db5"
      },
      "execution_count": null,
      "outputs": [
        {
          "output_type": "stream",
          "name": "stdout",
          "text": [
            "[[ 1  5]\n",
            " [-5  2]\n",
            " [ 4 -6]]\n"
          ]
        }
      ]
    },
    {
      "cell_type": "code",
      "source": [
        "import numpy as np\n",
        "fruits = np.array(['banana', 'cherry'])\n",
        "fruits[fruits == 'cherry'] = 'grape'\n",
        "print(fruits)"
      ],
      "metadata": {
        "colab": {
          "base_uri": "https://localhost:8080/"
        },
        "id": "O_3PJmJddGke",
        "outputId": "7e8729e5-e943-4c68-b8d1-798618b62258"
      },
      "execution_count": null,
      "outputs": [
        {
          "output_type": "stream",
          "name": "stdout",
          "text": [
            "['banana' 'grape']\n"
          ]
        }
      ]
    },
    {
      "cell_type": "code",
      "source": [
        "fruits = np.array(['banana', 'cherry'])\n",
        "fruits[1] = 'grape'\n",
        "print(fruits)"
      ],
      "metadata": {
        "colab": {
          "base_uri": "https://localhost:8080/"
        },
        "id": "OGCOIiZXfduj",
        "outputId": "4d776a6a-1e1e-4b5a-bee9-05a46c88b523"
      },
      "execution_count": null,
      "outputs": [
        {
          "output_type": "stream",
          "name": "stdout",
          "text": [
            "['banana' 'grape']\n"
          ]
        }
      ]
    },
    {
      "cell_type": "code",
      "source": [
        "fruits.replace('cherry', 'grape')"
      ],
      "metadata": {
        "colab": {
          "base_uri": "https://localhost:8080/",
          "height": 146
        },
        "id": "27YtGielEkRk",
        "outputId": "141338c3-e1c6-4640-f92a-2a835f1e8f6c"
      },
      "execution_count": null,
      "outputs": [
        {
          "output_type": "error",
          "ename": "AttributeError",
          "evalue": "'numpy.ndarray' object has no attribute 'replace'",
          "traceback": [
            "\u001b[0;31m---------------------------------------------------------------------------\u001b[0m",
            "\u001b[0;31mAttributeError\u001b[0m                            Traceback (most recent call last)",
            "\u001b[0;32m<ipython-input-72-cf7b654bee38>\u001b[0m in \u001b[0;36m<cell line: 1>\u001b[0;34m()\u001b[0m\n\u001b[0;32m----> 1\u001b[0;31m \u001b[0mfruits\u001b[0m\u001b[0;34m.\u001b[0m\u001b[0mreplace\u001b[0m\u001b[0;34m(\u001b[0m\u001b[0;34m'cherry'\u001b[0m\u001b[0;34m,\u001b[0m \u001b[0;34m'grape'\u001b[0m\u001b[0;34m)\u001b[0m\u001b[0;34m\u001b[0m\u001b[0;34m\u001b[0m\u001b[0m\n\u001b[0m",
            "\u001b[0;31mAttributeError\u001b[0m: 'numpy.ndarray' object has no attribute 'replace'"
          ]
        }
      ]
    },
    {
      "cell_type": "code",
      "source": [
        "point1 = np.array([-2, 3, 5])\n",
        "point2 = np.array([1, 0, -4])\n",
        "euc_dist = (point1 - point2)\n",
        "euc_dist = 2* sum(euc_dist)\n",
        "print(euc_dist)"
      ],
      "metadata": {
        "colab": {
          "base_uri": "https://localhost:8080/"
        },
        "id": "84aRg7T3EoJ7",
        "outputId": "f808d812-1d2f-4794-913e-fa4a53ece037"
      },
      "execution_count": null,
      "outputs": [
        {
          "output_type": "stream",
          "name": "stdout",
          "text": [
            "18\n"
          ]
        }
      ]
    },
    {
      "cell_type": "code",
      "source": [
        "np.exp(np.array([1, 2, 3, 4, 5]))"
      ],
      "metadata": {
        "colab": {
          "base_uri": "https://localhost:8080/"
        },
        "id": "9nkkFfCpOMU4",
        "outputId": "08b220b3-c50f-4c66-d887-a10064a158c0"
      },
      "execution_count": null,
      "outputs": [
        {
          "output_type": "execute_result",
          "data": {
            "text/plain": [
              "array([  2.71828183,   7.3890561 ,  20.08553692,  54.59815003,\n",
              "       148.4131591 ])"
            ]
          },
          "metadata": {},
          "execution_count": 78
        }
      ]
    },
    {
      "cell_type": "code",
      "source": [
        "np.array([np.exp(1), np.exp(2), np.exp(3), np.exp(4), np.exp(5)])"
      ],
      "metadata": {
        "colab": {
          "base_uri": "https://localhost:8080/"
        },
        "id": "OzL57rz1VxtE",
        "outputId": "07260c75-d572-49ab-b49e-d0e756ca02af"
      },
      "execution_count": null,
      "outputs": [
        {
          "output_type": "execute_result",
          "data": {
            "text/plain": [
              "array([  2.71828183,   7.3890561 ,  20.08553692,  54.59815003,\n",
              "       148.4131591 ])"
            ]
          },
          "metadata": {},
          "execution_count": 79
        }
      ]
    },
    {
      "cell_type": "code",
      "source": [
        "np.e ** np.array([1, 2, 3, 4, 5])"
      ],
      "metadata": {
        "colab": {
          "base_uri": "https://localhost:8080/"
        },
        "id": "IpeGh3-ZV5IH",
        "outputId": "34d4c6d0-8738-4f6e-fbae-3a64ba2fd453"
      },
      "execution_count": null,
      "outputs": [
        {
          "output_type": "execute_result",
          "data": {
            "text/plain": [
              "array([  2.71828183,   7.3890561 ,  20.08553692,  54.59815003,\n",
              "       148.4131591 ])"
            ]
          },
          "metadata": {},
          "execution_count": 80
        }
      ]
    },
    {
      "cell_type": "code",
      "source": [
        "\n",
        "np.exp([1, 2, 3, 4, 5])"
      ],
      "metadata": {
        "colab": {
          "base_uri": "https://localhost:8080/"
        },
        "id": "KWntPZZKV-wo",
        "outputId": "69c4b58a-fc02-4c8d-eeb3-b5745613be1a"
      },
      "execution_count": null,
      "outputs": [
        {
          "output_type": "execute_result",
          "data": {
            "text/plain": [
              "array([  2.71828183,   7.3890561 ,  20.08553692,  54.59815003,\n",
              "       148.4131591 ])"
            ]
          },
          "metadata": {},
          "execution_count": 81
        }
      ]
    },
    {
      "cell_type": "code",
      "source": [
        "np.linspace(-10, 10, 20)"
      ],
      "metadata": {
        "colab": {
          "base_uri": "https://localhost:8080/"
        },
        "id": "LrAKzgZmWFuA",
        "outputId": "e3b60a71-6ccd-4a86-bbfc-16d02ecaffe5"
      },
      "execution_count": null,
      "outputs": [
        {
          "output_type": "execute_result",
          "data": {
            "text/plain": [
              "array([-10.        ,  -8.94736842,  -7.89473684,  -6.84210526,\n",
              "        -5.78947368,  -4.73684211,  -3.68421053,  -2.63157895,\n",
              "        -1.57894737,  -0.52631579,   0.52631579,   1.57894737,\n",
              "         2.63157895,   3.68421053,   4.73684211,   5.78947368,\n",
              "         6.84210526,   7.89473684,   8.94736842,  10.        ])"
            ]
          },
          "metadata": {},
          "execution_count": 82
        }
      ]
    },
    {
      "cell_type": "code",
      "source": [
        "arr_1 = np.array([1, -2, 3, 4])\n",
        "arr_2 = np.array([-4, 2, -4])\n",
        "arr_3 = np.array([7, -2, -5, 6, 4])\n",
        "concatenate_arr = np.concatenate((arr_1, arr_2, arr_3))\n",
        "print(concatenate_arr)"
      ],
      "metadata": {
        "colab": {
          "base_uri": "https://localhost:8080/"
        },
        "id": "vL8C5zgGWdK6",
        "outputId": "6243a47f-d5c6-4663-9577-d15b6f26ba9f"
      },
      "execution_count": null,
      "outputs": [
        {
          "output_type": "stream",
          "name": "stdout",
          "text": [
            "[ 1 -2  3  4 -4  2 -4  7 -2 -5  6  4]\n"
          ]
        }
      ]
    },
    {
      "cell_type": "code",
      "source": [
        "import numpy as np\n",
        "input_list= [1,2,3,4,5,76,6,8,99,10]\n",
        "m= 5\n",
        "n=99\n",
        "\n",
        "array_1 = np.array(input_list)\n",
        "final_array = np.array([a for a in array_1 if  a>m and a<n])\n",
        "print(final_array)"
      ],
      "metadata": {
        "id": "Q72icZ8qcFVY",
        "colab": {
          "base_uri": "https://localhost:8080/"
        },
        "outputId": "39eec635-71dc-4cac-a6d0-34a33d664e13"
      },
      "execution_count": 7,
      "outputs": [
        {
          "output_type": "stream",
          "name": "stdout",
          "text": [
            "[76  6  8 10]\n"
          ]
        }
      ]
    },
    {
      "cell_type": "code",
      "source": [
        "multiple5 = np.arange(5,5*11,5)\n",
        "print(multiple5)"
      ],
      "metadata": {
        "colab": {
          "base_uri": "https://localhost:8080/"
        },
        "id": "3FAS6aMRKEXy",
        "outputId": "60bc12b9-3202-446d-ac57-d02812bc7708"
      },
      "execution_count": 11,
      "outputs": [
        {
          "output_type": "stream",
          "name": "stdout",
          "text": [
            "[ 5 10 15 20 25 30 35 40 45 50]\n"
          ]
        }
      ]
    },
    {
      "cell_type": "code",
      "source": [
        "array1 = np.array([0])\n",
        "array2 = np.array([1])\n",
        "#n = int(input())\n",
        "tile_array = np.tile([array1, array2], [2,2])\n",
        "print(tile_array)"
      ],
      "metadata": {
        "colab": {
          "base_uri": "https://localhost:8080/"
        },
        "id": "nNVnMKzGNFXU",
        "outputId": "e153b099-ec51-42ac-859c-6938b1970fc8"
      },
      "execution_count": 37,
      "outputs": [
        {
          "output_type": "stream",
          "name": "stdout",
          "text": [
            "[[0 0]\n",
            " [1 1]\n",
            " [0 0]\n",
            " [1 1]]\n"
          ]
        }
      ]
    },
    {
      "cell_type": "code",
      "source": [
        "import numpy as np\n",
        "\n",
        "array1 = np.array([0, 1])\n",
        "array2 = np.array([1, 0])\n",
        "n = int(input(\"Enter the size of the checkerboard: \"))\n",
        "\n",
        "# Use np.tile to repeat the pattern for n rows and columns\n",
        "tile_array = np.tile([array1, array2], (n,n))[:n,:n]\n",
        "print(tile_array)\n"
      ],
      "metadata": {
        "colab": {
          "base_uri": "https://localhost:8080/"
        },
        "id": "Vx1FDeO-QORL",
        "outputId": "fdf1913d-aa41-4277-dadc-fcfcb4037497"
      },
      "execution_count": 9,
      "outputs": [
        {
          "output_type": "stream",
          "name": "stdout",
          "text": [
            "Enter the size of the checkerboard: 20\n",
            "[[0 1 0 1 0 1 0 1 0 1 0 1 0 1 0 1 0 1 0 1]\n",
            " [1 0 1 0 1 0 1 0 1 0 1 0 1 0 1 0 1 0 1 0]\n",
            " [0 1 0 1 0 1 0 1 0 1 0 1 0 1 0 1 0 1 0 1]\n",
            " [1 0 1 0 1 0 1 0 1 0 1 0 1 0 1 0 1 0 1 0]\n",
            " [0 1 0 1 0 1 0 1 0 1 0 1 0 1 0 1 0 1 0 1]\n",
            " [1 0 1 0 1 0 1 0 1 0 1 0 1 0 1 0 1 0 1 0]\n",
            " [0 1 0 1 0 1 0 1 0 1 0 1 0 1 0 1 0 1 0 1]\n",
            " [1 0 1 0 1 0 1 0 1 0 1 0 1 0 1 0 1 0 1 0]\n",
            " [0 1 0 1 0 1 0 1 0 1 0 1 0 1 0 1 0 1 0 1]\n",
            " [1 0 1 0 1 0 1 0 1 0 1 0 1 0 1 0 1 0 1 0]\n",
            " [0 1 0 1 0 1 0 1 0 1 0 1 0 1 0 1 0 1 0 1]\n",
            " [1 0 1 0 1 0 1 0 1 0 1 0 1 0 1 0 1 0 1 0]\n",
            " [0 1 0 1 0 1 0 1 0 1 0 1 0 1 0 1 0 1 0 1]\n",
            " [1 0 1 0 1 0 1 0 1 0 1 0 1 0 1 0 1 0 1 0]\n",
            " [0 1 0 1 0 1 0 1 0 1 0 1 0 1 0 1 0 1 0 1]\n",
            " [1 0 1 0 1 0 1 0 1 0 1 0 1 0 1 0 1 0 1 0]\n",
            " [0 1 0 1 0 1 0 1 0 1 0 1 0 1 0 1 0 1 0 1]\n",
            " [1 0 1 0 1 0 1 0 1 0 1 0 1 0 1 0 1 0 1 0]\n",
            " [0 1 0 1 0 1 0 1 0 1 0 1 0 1 0 1 0 1 0 1]\n",
            " [1 0 1 0 1 0 1 0 1 0 1 0 1 0 1 0 1 0 1 0]]\n"
          ]
        }
      ]
    },
    {
      "cell_type": "code",
      "source": [
        "\n",
        "import numpy as np\n",
        "\n",
        "#data for student performance\n",
        "modules_completed = np.array([12, 15, 18, 20, 14, 16, 22, 10, 13, 17, 19, 21, 14, 12, 16, 18, 20, 14, 16, 19])\n",
        "quiz_scores = np.array([85, 90, 78, 92, 88, 76, 95, 80, 89, 94, 81, 87, 93, 79, 91, 84, 88, 75, 82, 96])\n",
        "\n",
        "more_than15 = np.array(modules_completed[modules_completed > 15])\n",
        "print(more_than15, np.size(more_than15))"
      ],
      "metadata": {
        "colab": {
          "base_uri": "https://localhost:8080/"
        },
        "id": "UAngu36PejPv",
        "outputId": "9cdced63-11f2-4bc9-cc50-87fdbe2627e8"
      },
      "execution_count": 13,
      "outputs": [
        {
          "output_type": "stream",
          "name": "stdout",
          "text": [
            "[18 20 16 22 17 19 21 16 18 20 16 19] 12\n"
          ]
        }
      ]
    },
    {
      "cell_type": "code",
      "source": [
        "print(np.sum(modules_completed>15))"
      ],
      "metadata": {
        "colab": {
          "base_uri": "https://localhost:8080/"
        },
        "id": "R5RBSIqj2PJT",
        "outputId": "2c29816c-18c5-4649-fc29-6e1bf8d1dd4e"
      },
      "execution_count": 14,
      "outputs": [
        {
          "output_type": "stream",
          "name": "stdout",
          "text": [
            "12\n"
          ]
        }
      ]
    },
    {
      "cell_type": "code",
      "source": [
        "print(np.mean(quiz_scores))"
      ],
      "metadata": {
        "colab": {
          "base_uri": "https://localhost:8080/"
        },
        "id": "USllbXrY3_pz",
        "outputId": "ab53dda8-33e3-4e10-9151-5bb120d4f7d3"
      },
      "execution_count": 15,
      "outputs": [
        {
          "output_type": "stream",
          "name": "stdout",
          "text": [
            "86.15\n"
          ]
        }
      ]
    },
    {
      "cell_type": "code",
      "source": [
        "print(np.array(quiz_scores[quiz_scores>90]))"
      ],
      "metadata": {
        "colab": {
          "base_uri": "https://localhost:8080/"
        },
        "id": "2doVTkPi4ZLF",
        "outputId": "1fd49914-c04d-4ed9-867e-d92d2c9d17f7"
      },
      "execution_count": 16,
      "outputs": [
        {
          "output_type": "stream",
          "name": "stdout",
          "text": [
            "[92 95 94 93 91 96]\n"
          ]
        }
      ]
    },
    {
      "cell_type": "code",
      "source": [
        "print(np.sum(quiz_scores>90))"
      ],
      "metadata": {
        "colab": {
          "base_uri": "https://localhost:8080/"
        },
        "id": "wITdeNif4-pg",
        "outputId": "8dc4dc1b-9f6a-4792-919a-5b5cf7054026"
      },
      "execution_count": 19,
      "outputs": [
        {
          "output_type": "stream",
          "name": "stdout",
          "text": [
            "6\n"
          ]
        }
      ]
    },
    {
      "cell_type": "code",
      "source": [
        "correct_scores = np.array([82, 88, 76, 95, 90])\n",
        "quiz_scores[:5] = correct_scores\n",
        "print(quiz_scores)"
      ],
      "metadata": {
        "colab": {
          "base_uri": "https://localhost:8080/"
        },
        "id": "d-Vlv3VN5Foz",
        "outputId": "110e0100-cc1d-4139-ba81-100cea574ac8"
      },
      "execution_count": 20,
      "outputs": [
        {
          "output_type": "stream",
          "name": "stdout",
          "text": [
            "[82 88 76 95 90 76 95 80 89 94 81 87 93 79 91 84 88 75 82 96]\n"
          ]
        }
      ]
    },
    {
      "cell_type": "code",
      "source": [
        "import numpy as np\n",
        "\n",
        "#data for student performance\n",
        "modules_completed = np.array([12, 15, 18, 20, 14, 16, 22, 10, 13, 17, 19, 21, 14, 12, 16, 18, 20, 14, 16, 19])\n",
        "quiz_scores = np.array([85, 90, 78, 92, 88, 76, 95, 80, 89, 94, 81, 87, 93, 79, 91, 84, 88, 75, 82, 96])\n",
        "\n",
        "percent_below80 = np.sum(quiz_scores<80) / len(quiz_scores) * 100\n",
        "print(percent_below80)"
      ],
      "metadata": {
        "colab": {
          "base_uri": "https://localhost:8080/"
        },
        "id": "32JFRzW45euo",
        "outputId": "95c4f649-f1ae-4542-ee76-158915417f8c"
      },
      "execution_count": 23,
      "outputs": [
        {
          "output_type": "stream",
          "name": "stdout",
          "text": [
            "20.0\n"
          ]
        }
      ]
    },
    {
      "cell_type": "code",
      "source": [],
      "metadata": {
        "id": "4uA0K7H26ehc"
      },
      "execution_count": null,
      "outputs": []
    }
  ]
}