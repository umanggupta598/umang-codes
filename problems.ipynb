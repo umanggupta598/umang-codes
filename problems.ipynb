{
  "nbformat": 4,
  "nbformat_minor": 0,
  "metadata": {
    "colab": {
      "provenance": [],
      "authorship_tag": "ABX9TyNtZST958GVDIoQnJZNqil4",
      "include_colab_link": true
    },
    "kernelspec": {
      "name": "python3",
      "display_name": "Python 3"
    },
    "language_info": {
      "name": "python"
    }
  },
  "cells": [
    {
      "cell_type": "markdown",
      "metadata": {
        "id": "view-in-github",
        "colab_type": "text"
      },
      "source": [
        "<a href=\"https://colab.research.google.com/github/umanggupta598/umang-codes/blob/main/problems.ipynb\" target=\"_parent\"><img src=\"https://colab.research.google.com/assets/colab-badge.svg\" alt=\"Open In Colab\"/></a>"
      ]
    },
    {
      "cell_type": "code",
      "execution_count": null,
      "metadata": {
        "colab": {
          "base_uri": "https://localhost:8080/"
        },
        "id": "WBs7AeRhgw_x",
        "outputId": "1672ddbb-97d4-4c77-852c-5800a9979731"
      },
      "outputs": [
        {
          "output_type": "stream",
          "name": "stdout",
          "text": [
            "Enter a no. 10\n",
            "factorial is : 3628800\n",
            "squareroot is:  3.1622776601683795\n",
            " power to 3 is :  1000.0\n"
          ]
        }
      ],
      "source": [
        "import math\n",
        "a = int(input(\"Enter a no. \"))\n",
        "factorial = math.factorial(a)\n",
        "print('factorial is :' , factorial)\n",
        "\n",
        "squareroot = math.sqrt(a)\n",
        "print('squareroot is: ' , squareroot)\n",
        "\n",
        "power = math.pow(a,3)\n",
        "print(' power to 3 is : ' , power)\n"
      ]
    },
    {
      "cell_type": "code",
      "source": [
        "list1 = [1,2,3,4,5]\n",
        "print(1 in list1)\n",
        "print(10 in list1)\n",
        "print(5 not in list1)"
      ],
      "metadata": {
        "colab": {
          "base_uri": "https://localhost:8080/"
        },
        "id": "TEEVMG0Fg-3U",
        "outputId": "bb66375e-bda6-4984-faf7-4ea189319792"
      },
      "execution_count": null,
      "outputs": [
        {
          "output_type": "stream",
          "name": "stdout",
          "text": [
            "True\n",
            "False\n",
            "False\n"
          ]
        }
      ]
    },
    {
      "cell_type": "code",
      "source": [
        "import math\n",
        "print (math.sqrt(25) + (7 ** 3) / 2)\n",
        "print (math.factorial(4) / (2 ** 3) - 1)\n",
        "print ((10 * (5 - 3) ** 2) / 4)\n",
        "print (3 * ((5 / 2) - math.sqrt(9)))\n",
        "print (6 * (len('Mathematics') % 3 // 2) + 3 ** 2)"
      ],
      "metadata": {
        "colab": {
          "base_uri": "https://localhost:8080/"
        },
        "id": "EN_QoHoDrHla",
        "outputId": "14846cef-5de3-43e1-98e0-21234dc2a7da"
      },
      "execution_count": null,
      "outputs": [
        {
          "output_type": "stream",
          "name": "stdout",
          "text": [
            "176.5\n",
            "2.0\n",
            "10.0\n",
            "-1.5\n",
            "15\n"
          ]
        }
      ]
    },
    {
      "cell_type": "code",
      "source": [
        "print(4%100,4//100,4/100)"
      ],
      "metadata": {
        "colab": {
          "base_uri": "https://localhost:8080/"
        },
        "id": "bOGYj92EszrT",
        "outputId": "d442d34e-e5c5-418f-9de9-636970c883d6"
      },
      "execution_count": null,
      "outputs": [
        {
          "output_type": "stream",
          "name": "stdout",
          "text": [
            "4 0 0.04\n"
          ]
        }
      ]
    },
    {
      "cell_type": "code",
      "source": [
        "10 > 5 and 3 > 7 or 6 != 6 or not (2 + 2 == 4)"
      ],
      "metadata": {
        "colab": {
          "base_uri": "https://localhost:8080/"
        },
        "id": "FIO7q8NKuf_Q",
        "outputId": "810dc82f-efc4-4158-8d24-0b20defbca3f"
      },
      "execution_count": null,
      "outputs": [
        {
          "output_type": "execute_result",
          "data": {
            "text/plain": [
              "False"
            ]
          },
          "metadata": {},
          "execution_count": 5
        }
      ]
    },
    {
      "cell_type": "code",
      "source": [
        "2 + 2 == 5 or 3 + 3 == 6 and 4 != 4 and not (5 > 3)"
      ],
      "metadata": {
        "id": "YTz8YjYSukun",
        "outputId": "e0ed0909-dce3-4201-ec94-4fa6bf4685b9",
        "colab": {
          "base_uri": "https://localhost:8080/"
        }
      },
      "execution_count": null,
      "outputs": [
        {
          "output_type": "execute_result",
          "data": {
            "text/plain": [
              "False"
            ]
          },
          "metadata": {},
          "execution_count": 6
        }
      ]
    },
    {
      "cell_type": "code",
      "source": [],
      "metadata": {
        "colab": {
          "base_uri": "https://localhost:8080/",
          "height": 146
        },
        "id": "QCibtrxgXkt0",
        "outputId": "faeb836d-d148-4aa8-86e5-a887fc59bdd8"
      },
      "execution_count": null,
      "outputs": [
        {
          "output_type": "error",
          "ename": "NameError",
          "evalue": "name 'x' is not defined",
          "traceback": [
            "\u001b[0;31m---------------------------------------------------------------------------\u001b[0m",
            "\u001b[0;31mNameError\u001b[0m                                 Traceback (most recent call last)",
            "\u001b[0;32m<ipython-input-1-fc17d851ef81>\u001b[0m in \u001b[0;36m<cell line: 1>\u001b[0;34m()\u001b[0m\n\u001b[0;32m----> 1\u001b[0;31m \u001b[0mprint\u001b[0m\u001b[0;34m(\u001b[0m\u001b[0mx\u001b[0m\u001b[0;34m)\u001b[0m\u001b[0;34m\u001b[0m\u001b[0;34m\u001b[0m\u001b[0m\n\u001b[0m",
            "\u001b[0;31mNameError\u001b[0m: name 'x' is not defined"
          ]
        }
      ]
    },
    {
      "cell_type": "code",
      "source": [
        "x"
      ],
      "metadata": {
        "id": "FVUinjWLXt4Z"
      },
      "execution_count": null,
      "outputs": []
    },
    {
      "cell_type": "code",
      "source": [
        "print(x)"
      ],
      "metadata": {
        "colab": {
          "base_uri": "https://localhost:8080/",
          "height": 146
        },
        "id": "0Ul3IkrdXw6j",
        "outputId": "ef3b6444-40b4-40d3-98b8-63f5e17fe599"
      },
      "execution_count": null,
      "outputs": [
        {
          "output_type": "error",
          "ename": "NameError",
          "evalue": "name 'x' is not defined",
          "traceback": [
            "\u001b[0;31m---------------------------------------------------------------------------\u001b[0m",
            "\u001b[0;31mNameError\u001b[0m                                 Traceback (most recent call last)",
            "\u001b[0;32m<ipython-input-2-fc17d851ef81>\u001b[0m in \u001b[0;36m<cell line: 1>\u001b[0;34m()\u001b[0m\n\u001b[0;32m----> 1\u001b[0;31m \u001b[0mprint\u001b[0m\u001b[0;34m(\u001b[0m\u001b[0mx\u001b[0m\u001b[0;34m)\u001b[0m\u001b[0;34m\u001b[0m\u001b[0;34m\u001b[0m\u001b[0m\n\u001b[0m",
            "\u001b[0;31mNameError\u001b[0m: name 'x' is not defined"
          ]
        }
      ]
    },
    {
      "cell_type": "code",
      "source": [
        "x = 10\n",
        "y = x\n",
        "x = 5\n",
        "print(x)\n",
        "print(y)"
      ],
      "metadata": {
        "colab": {
          "base_uri": "https://localhost:8080/"
        },
        "id": "9fkx2t6pXysF",
        "outputId": "ea3b2445-2bd4-4375-fde0-41d24743ed8b"
      },
      "execution_count": null,
      "outputs": [
        {
          "output_type": "stream",
          "name": "stdout",
          "text": [
            "5\n",
            "10\n"
          ]
        }
      ]
    },
    {
      "cell_type": "code",
      "source": [
        "x = input(\"write answer: \")\n",
        "x"
      ],
      "metadata": {
        "colab": {
          "base_uri": "https://localhost:8080/",
          "height": 54
        },
        "id": "MWavmHZZYLIz",
        "outputId": "a1793597-6e5f-4ce8-f71d-ecc538cc8c45"
      },
      "execution_count": null,
      "outputs": [
        {
          "name": "stdout",
          "output_type": "stream",
          "text": [
            "write answer: hkh\n"
          ]
        },
        {
          "output_type": "execute_result",
          "data": {
            "text/plain": [
              "'hkh'"
            ],
            "application/vnd.google.colaboratory.intrinsic+json": {
              "type": "string"
            }
          },
          "metadata": {},
          "execution_count": 5
        }
      ]
    },
    {
      "cell_type": "code",
      "source": [
        "\n",
        "print(\"Hello, World!\", end=\"\")"
      ],
      "metadata": {
        "colab": {
          "base_uri": "https://localhost:8080/"
        },
        "id": "r_ReBsTfYi30",
        "outputId": "06d7a4d6-bf33-4bc0-ca13-d3c53f3635ee"
      },
      "execution_count": null,
      "outputs": [
        {
          "output_type": "stream",
          "name": "stdout",
          "text": [
            "Hello, World!"
          ]
        }
      ]
    },
    {
      "cell_type": "code",
      "source": [
        "print(\"Hello, World!\", stop=\"\")"
      ],
      "metadata": {
        "colab": {
          "base_uri": "https://localhost:8080/",
          "height": 146
        },
        "id": "pPcxsbw5Ytap",
        "outputId": "44bb0185-6b89-40d9-e13b-8d52648e282e"
      },
      "execution_count": null,
      "outputs": [
        {
          "output_type": "error",
          "ename": "TypeError",
          "evalue": "'stop' is an invalid keyword argument for print()",
          "traceback": [
            "\u001b[0;31m---------------------------------------------------------------------------\u001b[0m",
            "\u001b[0;31mTypeError\u001b[0m                                 Traceback (most recent call last)",
            "\u001b[0;32m<ipython-input-7-0b494232627f>\u001b[0m in \u001b[0;36m<cell line: 1>\u001b[0;34m()\u001b[0m\n\u001b[0;32m----> 1\u001b[0;31m \u001b[0mprint\u001b[0m\u001b[0;34m(\u001b[0m\u001b[0;34m\"Hello, World!\"\u001b[0m\u001b[0;34m,\u001b[0m \u001b[0mstop\u001b[0m\u001b[0;34m=\u001b[0m\u001b[0;34m\"\"\u001b[0m\u001b[0;34m)\u001b[0m\u001b[0;34m\u001b[0m\u001b[0;34m\u001b[0m\u001b[0m\n\u001b[0m",
            "\u001b[0;31mTypeError\u001b[0m: 'stop' is an invalid keyword argument for print()"
          ]
        }
      ]
    },
    {
      "cell_type": "code",
      "source": [
        "print(\"Hello, World!\", newline=False)"
      ],
      "metadata": {
        "colab": {
          "base_uri": "https://localhost:8080/",
          "height": 146
        },
        "id": "RmmFNSEPYwiu",
        "outputId": "9ca05766-80fd-41e3-a724-768367860f98"
      },
      "execution_count": null,
      "outputs": [
        {
          "output_type": "error",
          "ename": "TypeError",
          "evalue": "'newline' is an invalid keyword argument for print()",
          "traceback": [
            "\u001b[0;31m---------------------------------------------------------------------------\u001b[0m",
            "\u001b[0;31mTypeError\u001b[0m                                 Traceback (most recent call last)",
            "\u001b[0;32m<ipython-input-8-2c51e1fc5d48>\u001b[0m in \u001b[0;36m<cell line: 1>\u001b[0;34m()\u001b[0m\n\u001b[0;32m----> 1\u001b[0;31m \u001b[0mprint\u001b[0m\u001b[0;34m(\u001b[0m\u001b[0;34m\"Hello, World!\"\u001b[0m\u001b[0;34m,\u001b[0m \u001b[0mnewline\u001b[0m\u001b[0;34m=\u001b[0m\u001b[0;32mFalse\u001b[0m\u001b[0;34m)\u001b[0m\u001b[0;34m\u001b[0m\u001b[0;34m\u001b[0m\u001b[0m\n\u001b[0m",
            "\u001b[0;31mTypeError\u001b[0m: 'newline' is an invalid keyword argument for print()"
          ]
        }
      ]
    },
    {
      "cell_type": "code",
      "source": [
        "age = int(input(\"Enter your age: \"))"
      ],
      "metadata": {
        "colab": {
          "base_uri": "https://localhost:8080/"
        },
        "id": "xaNS91v0YzjT",
        "outputId": "7ef1ce93-c614-4f9e-86b8-7380cf8ebee1"
      },
      "execution_count": null,
      "outputs": [
        {
          "name": "stdout",
          "output_type": "stream",
          "text": [
            "Enter your age: 56\n"
          ]
        }
      ]
    },
    {
      "cell_type": "code",
      "source": [
        "age"
      ],
      "metadata": {
        "colab": {
          "base_uri": "https://localhost:8080/"
        },
        "id": "MwIueELFZDD0",
        "outputId": "1e61b0fe-c94b-4b00-cd3e-c7c6582189b0"
      },
      "execution_count": null,
      "outputs": [
        {
          "output_type": "execute_result",
          "data": {
            "text/plain": [
              "56"
            ]
          },
          "metadata": {},
          "execution_count": 10
        }
      ]
    },
    {
      "cell_type": "code",
      "source": [
        "age = input(int(\"Enter your age: \"))"
      ],
      "metadata": {
        "colab": {
          "base_uri": "https://localhost:8080/",
          "height": 146
        },
        "id": "cLJJVDp0ZFPK",
        "outputId": "546b8896-507f-405c-a405-2820a0e5955e"
      },
      "execution_count": null,
      "outputs": [
        {
          "output_type": "error",
          "ename": "ValueError",
          "evalue": "invalid literal for int() with base 10: 'Enter your age: '",
          "traceback": [
            "\u001b[0;31m---------------------------------------------------------------------------\u001b[0m",
            "\u001b[0;31mValueError\u001b[0m                                Traceback (most recent call last)",
            "\u001b[0;32m<ipython-input-11-9cad43406c1b>\u001b[0m in \u001b[0;36m<cell line: 1>\u001b[0;34m()\u001b[0m\n\u001b[0;32m----> 1\u001b[0;31m \u001b[0mage\u001b[0m \u001b[0;34m=\u001b[0m \u001b[0minput\u001b[0m\u001b[0;34m(\u001b[0m\u001b[0mint\u001b[0m\u001b[0;34m(\u001b[0m\u001b[0;34m\"Enter your age: \"\u001b[0m\u001b[0;34m)\u001b[0m\u001b[0;34m)\u001b[0m\u001b[0;34m\u001b[0m\u001b[0;34m\u001b[0m\u001b[0m\n\u001b[0m",
            "\u001b[0;31mValueError\u001b[0m: invalid literal for int() with base 10: 'Enter your age: '"
          ]
        }
      ]
    },
    {
      "cell_type": "code",
      "source": [
        "8/2"
      ],
      "metadata": {
        "colab": {
          "base_uri": "https://localhost:8080/"
        },
        "id": "JtijWVeQZIQm",
        "outputId": "a0ed7d97-adc7-4b5c-90d1-5bb99ff97596"
      },
      "execution_count": null,
      "outputs": [
        {
          "output_type": "execute_result",
          "data": {
            "text/plain": [
              "4.0"
            ]
          },
          "metadata": {},
          "execution_count": 12
        }
      ]
    },
    {
      "cell_type": "code",
      "source": [
        "10 // 3"
      ],
      "metadata": {
        "colab": {
          "base_uri": "https://localhost:8080/"
        },
        "id": "RlX9LonpZZy5",
        "outputId": "e7f72f0d-5a90-4309-b4db-49f2c2f1409d"
      },
      "execution_count": null,
      "outputs": [
        {
          "output_type": "execute_result",
          "data": {
            "text/plain": [
              "3"
            ]
          },
          "metadata": {},
          "execution_count": 13
        }
      ]
    },
    {
      "cell_type": "code",
      "source": [
        "5 * 3 + 2"
      ],
      "metadata": {
        "colab": {
          "base_uri": "https://localhost:8080/"
        },
        "id": "KIRK1h49ZiYo",
        "outputId": "565c1d62-fa95-4b64-8baf-25b1e526ba66"
      },
      "execution_count": null,
      "outputs": [
        {
          "output_type": "execute_result",
          "data": {
            "text/plain": [
              "17"
            ]
          },
          "metadata": {},
          "execution_count": 14
        }
      ]
    },
    {
      "cell_type": "code",
      "source": [
        "y=2"
      ],
      "metadata": {
        "id": "lV54MXtrZoq_"
      },
      "execution_count": null,
      "outputs": []
    },
    {
      "cell_type": "code",
      "source": [
        " z = 2\n",
        " z **= 3"
      ],
      "metadata": {
        "id": "9F1fuSk5Z2ny"
      },
      "execution_count": null,
      "outputs": []
    },
    {
      "cell_type": "code",
      "source": [
        " z = 2\n",
        " z **= 3"
      ],
      "metadata": {
        "id": "YkogAkacZ3xi"
      },
      "execution_count": null,
      "outputs": []
    },
    {
      "cell_type": "code",
      "source": [
        " z = 2\n",
        " z **= 3"
      ],
      "metadata": {
        "id": "aRCBKOunaE6o"
      },
      "execution_count": null,
      "outputs": []
    },
    {
      "cell_type": "code",
      "source": [
        "print(z)"
      ],
      "metadata": {
        "colab": {
          "base_uri": "https://localhost:8080/"
        },
        "id": "NYMtjIL7aPAy",
        "outputId": "237fc32e-8de3-4573-dc05-f340a3a27eed"
      },
      "execution_count": null,
      "outputs": [
        {
          "output_type": "stream",
          "name": "stdout",
          "text": [
            "8\n"
          ]
        }
      ]
    },
    {
      "cell_type": "code",
      "source": [
        "ab = [1, 2, 3, 4, 5]\n",
        "print(3 in ab)"
      ],
      "metadata": {
        "colab": {
          "base_uri": "https://localhost:8080/"
        },
        "id": "cljAzqeHaQZF",
        "outputId": "a04e9271-8ca6-46b7-a14b-708cbba2e497"
      },
      "execution_count": null,
      "outputs": [
        {
          "output_type": "stream",
          "name": "stdout",
          "text": [
            "True\n"
          ]
        }
      ]
    },
    {
      "cell_type": "code",
      "source": [
        "5  == 5.0"
      ],
      "metadata": {
        "colab": {
          "base_uri": "https://localhost:8080/"
        },
        "id": "c39zP5-EbEjC",
        "outputId": "c4b86824-ac81-469d-f3e9-631637605ef1"
      },
      "execution_count": null,
      "outputs": [
        {
          "output_type": "execute_result",
          "data": {
            "text/plain": [
              "True"
            ]
          },
          "metadata": {},
          "execution_count": 29
        }
      ]
    },
    {
      "cell_type": "code",
      "source": [
        "5 is 5.0"
      ],
      "metadata": {
        "colab": {
          "base_uri": "https://localhost:8080/"
        },
        "id": "-oWpx1jFbRqW",
        "outputId": "5f0773ee-6c76-4b81-f456-e440be7d1d55"
      },
      "execution_count": null,
      "outputs": [
        {
          "output_type": "stream",
          "name": "stderr",
          "text": [
            "<>:1: SyntaxWarning: \"is\" with a literal. Did you mean \"==\"?\n",
            "<>:1: SyntaxWarning: \"is\" with a literal. Did you mean \"==\"?\n",
            "<ipython-input-30-2b2d1770f80b>:1: SyntaxWarning: \"is\" with a literal. Did you mean \"==\"?\n",
            "  5 is 5.0\n"
          ]
        },
        {
          "output_type": "execute_result",
          "data": {
            "text/plain": [
              "False"
            ]
          },
          "metadata": {},
          "execution_count": 30
        }
      ]
    },
    {
      "cell_type": "code",
      "source": [
        "ab = [1, 2, 3, 4, 5]\n",
        "cd = [1, 2, 3, 4, 5]\n",
        "print (ab is cd)\n",
        "print(id(ab))\n",
        "print(id(cd))"
      ],
      "metadata": {
        "colab": {
          "base_uri": "https://localhost:8080/"
        },
        "id": "YNhFnNXDbcAg",
        "outputId": "c68b8377-30ee-4edd-e9d0-de0105b7f18f"
      },
      "execution_count": null,
      "outputs": [
        {
          "output_type": "stream",
          "name": "stdout",
          "text": [
            "False\n",
            "137076801791872\n",
            "137077301127872\n"
          ]
        }
      ]
    },
    {
      "cell_type": "code",
      "source": [
        "print(f\"He said, \"\"Hello\"\"\")"
      ],
      "metadata": {
        "colab": {
          "base_uri": "https://localhost:8080/"
        },
        "id": "Uska0j78b9Fm",
        "outputId": "96ac508f-8793-4586-976a-2b2fe2a9e9c4"
      },
      "execution_count": null,
      "outputs": [
        {
          "output_type": "stream",
          "name": "stdout",
          "text": [
            "He said, Hello\n"
          ]
        }
      ]
    },
    {
      "cell_type": "code",
      "source": [
        "print(f\"He said, \\\"Hello\\\"\")"
      ],
      "metadata": {
        "colab": {
          "base_uri": "https://localhost:8080/"
        },
        "id": "JaCWqd1ac8f-",
        "outputId": "c1eeda45-4062-4fad-cb60-a690c5112569"
      },
      "execution_count": null,
      "outputs": [
        {
          "output_type": "stream",
          "name": "stdout",
          "text": [
            "He said, \"Hello\"\n"
          ]
        }
      ]
    },
    {
      "cell_type": "code",
      "source": [
        "x = 10\n",
        "print(f\"10 + {x}\")"
      ],
      "metadata": {
        "colab": {
          "base_uri": "https://localhost:8080/"
        },
        "id": "vPsnICGHc_Vo",
        "outputId": "6233a9d2-fe8a-44ec-907d-4ac225409a4e"
      },
      "execution_count": null,
      "outputs": [
        {
          "output_type": "stream",
          "name": "stdout",
          "text": [
            "10 + 10\n"
          ]
        }
      ]
    },
    {
      "cell_type": "code",
      "source": [
        "print(f\"{10+x}\")"
      ],
      "metadata": {
        "colab": {
          "base_uri": "https://localhost:8080/"
        },
        "id": "jfbzQwa0dXVW",
        "outputId": "d12b5dab-bedd-4e35-80c4-c6eed33ff326"
      },
      "execution_count": null,
      "outputs": [
        {
          "output_type": "stream",
          "name": "stdout",
          "text": [
            "20\n"
          ]
        }
      ]
    },
    {
      "cell_type": "code",
      "source": [
        "x=10\n",
        "print(f\"{x+10}\")\n",
        "print(f\"{10+x}\")\n",
        "print(f\"10 + {x}\")"
      ],
      "metadata": {
        "colab": {
          "base_uri": "https://localhost:8080/"
        },
        "id": "nmsMqkfgeFAi",
        "outputId": "763554a2-de90-4bad-e4a5-b7c631aeb1d6"
      },
      "execution_count": null,
      "outputs": [
        {
          "output_type": "stream",
          "name": "stdout",
          "text": [
            "20\n",
            "20\n",
            "10 + 10\n"
          ]
        }
      ]
    },
    {
      "cell_type": "code",
      "source": [
        "print(\"Hello, {}\".format(\"Alice\"))\n"
      ],
      "metadata": {
        "colab": {
          "base_uri": "https://localhost:8080/"
        },
        "id": "KaDxo_-qeZUs",
        "outputId": "29f88929-dedb-4bcd-dde3-e632534a5c18"
      },
      "execution_count": null,
      "outputs": [
        {
          "output_type": "stream",
          "name": "stdout",
          "text": [
            "Hello, Alice\n"
          ]
        }
      ]
    },
    {
      "cell_type": "code",
      "source": [
        "print(\"Hello, {name}\".format(name=\"Alice\"))"
      ],
      "metadata": {
        "colab": {
          "base_uri": "https://localhost:8080/"
        },
        "id": "EFoAZA8LfFP2",
        "outputId": "1f8174f1-741d-4e8d-ac30-61fa48a65411"
      },
      "execution_count": null,
      "outputs": [
        {
          "output_type": "stream",
          "name": "stdout",
          "text": [
            "Hello, Alice\n"
          ]
        }
      ]
    },
    {
      "cell_type": "code",
      "source": [
        "print(\"Hello, {}\".format(\"Alice\"))\n",
        "\n",
        "print(\"Hello, {name}\".format(name=\"Alice\"))\n"
      ],
      "metadata": {
        "colab": {
          "base_uri": "https://localhost:8080/"
        },
        "id": "w7mMsYj3fRCA",
        "outputId": "4ce9962f-7c8b-470d-d275-7a6469942e5c"
      },
      "execution_count": null,
      "outputs": [
        {
          "output_type": "stream",
          "name": "stdout",
          "text": [
            "Hello, Alice\n",
            "Hello, Alice\n"
          ]
        }
      ]
    },
    {
      "cell_type": "code",
      "source": [
        "print(\"{:.3f}\".format(3.14159265))"
      ],
      "metadata": {
        "colab": {
          "base_uri": "https://localhost:8080/"
        },
        "id": "liATLbHdfjM-",
        "outputId": "303410dd-3ef2-48a9-95e2-1bec8f1a033b"
      },
      "execution_count": null,
      "outputs": [
        {
          "output_type": "stream",
          "name": "stdout",
          "text": [
            "3.142\n"
          ]
        }
      ]
    },
    {
      "cell_type": "code",
      "source": [
        "names = ('Umang','Bhupesh','Ritin','Ranu','Chintu','Ujji')\n",
        "for name in names:\n",
        "  if name[0] == \"R\":\n",
        "    print(f\"{name} start with R\")\n",
        "    continue\n",
        "  print(f\"{name} doesn't start with R\")\n"
      ],
      "metadata": {
        "id": "PwnDWtt_gEVC",
        "colab": {
          "base_uri": "https://localhost:8080/"
        },
        "outputId": "4d790dd7-ac6a-428c-fac2-aa2b9dad21c6"
      },
      "execution_count": null,
      "outputs": [
        {
          "output_type": "stream",
          "name": "stdout",
          "text": [
            "Umang doesn't start with R\n",
            "Bhupesh doesn't start with R\n",
            "Ritin start with R\n",
            "Ranu start with R\n",
            "Chintu doesn't start with R\n",
            "Ujji doesn't start with R\n"
          ]
        }
      ]
    },
    {
      "cell_type": "code",
      "source": [
        "age = int(input(\"Enter the age : \"))\n",
        "if age<= 20: print(\"Hello\")\n",
        "else: print(\"Namaste\")"
      ],
      "metadata": {
        "colab": {
          "base_uri": "https://localhost:8080/"
        },
        "id": "NfcDShftprS6",
        "outputId": "994cfff7-1153-4626-994c-9f8e1f6b60e2"
      },
      "execution_count": null,
      "outputs": [
        {
          "output_type": "stream",
          "name": "stdout",
          "text": [
            "Enter the age : 12\n",
            "Hello\n"
          ]
        }
      ]
    },
    {
      "cell_type": "code",
      "source": [
        "def greet():\n",
        "  print(\"Hi everyone\")\n",
        "\n",
        "for i in range(4):\n",
        "  greet()"
      ],
      "metadata": {
        "colab": {
          "base_uri": "https://localhost:8080/"
        },
        "id": "eVZ0pcyA8wCU",
        "outputId": "4ba0f43e-c327-48cc-bf89-9ec464772df4"
      },
      "execution_count": null,
      "outputs": [
        {
          "output_type": "stream",
          "name": "stdout",
          "text": [
            "Hi everyone\n",
            "Hi everyone\n",
            "Hi everyone\n",
            "Hi everyone\n"
          ]
        }
      ]
    },
    {
      "cell_type": "markdown",
      "source": [],
      "metadata": {
        "id": "T78kNxAMGHVN"
      }
    },
    {
      "cell_type": "code",
      "source": [
        "number = 1234\n",
        "#output to be 4321, 8765\n",
        "for i in number:\n",
        "  print(i)\n"
      ],
      "metadata": {
        "id": "KnBb7ICM9A9C",
        "colab": {
          "base_uri": "https://localhost:8080/",
          "height": 200
        },
        "outputId": "d654ff4c-ede4-462d-fac5-144dcbd94ab4"
      },
      "execution_count": null,
      "outputs": [
        {
          "output_type": "error",
          "ename": "TypeError",
          "evalue": "'int' object is not iterable",
          "traceback": [
            "\u001b[0;31m---------------------------------------------------------------------------\u001b[0m",
            "\u001b[0;31mTypeError\u001b[0m                                 Traceback (most recent call last)",
            "\u001b[0;32m<ipython-input-1-af9f5c2770f7>\u001b[0m in \u001b[0;36m<cell line: 3>\u001b[0;34m()\u001b[0m\n\u001b[1;32m      1\u001b[0m \u001b[0mnumber\u001b[0m \u001b[0;34m=\u001b[0m \u001b[0;36m1234\u001b[0m\u001b[0;34m\u001b[0m\u001b[0;34m\u001b[0m\u001b[0m\n\u001b[1;32m      2\u001b[0m \u001b[0;31m#output to be 4321, 8765\u001b[0m\u001b[0;34m\u001b[0m\u001b[0;34m\u001b[0m\u001b[0m\n\u001b[0;32m----> 3\u001b[0;31m \u001b[0;32mfor\u001b[0m \u001b[0mi\u001b[0m \u001b[0;32min\u001b[0m \u001b[0mnumber\u001b[0m\u001b[0;34m:\u001b[0m\u001b[0;34m\u001b[0m\u001b[0;34m\u001b[0m\u001b[0m\n\u001b[0m\u001b[1;32m      4\u001b[0m   \u001b[0mprint\u001b[0m\u001b[0;34m(\u001b[0m\u001b[0mi\u001b[0m\u001b[0;34m)\u001b[0m\u001b[0;34m\u001b[0m\u001b[0;34m\u001b[0m\u001b[0m\n",
            "\u001b[0;31mTypeError\u001b[0m: 'int' object is not iterable"
          ]
        }
      ]
    },
    {
      "cell_type": "code",
      "source": [
        "number = \"1234\"\n",
        "#we will reverse the number\n",
        "new_num = ''\n",
        "#output to be 4321, 8765\n",
        "for i in range(len(number)-1,-1, -1):\n",
        "    new_num = new_num + number[i]\n",
        "\n",
        "#print in string\n",
        "print(new_num)\n",
        "print(int(new_num))"
      ],
      "metadata": {
        "colab": {
          "base_uri": "https://localhost:8080/"
        },
        "id": "qbnBg4uvRJni",
        "outputId": "57cda448-8cc3-4ac4-d329-874db0d3a61f"
      },
      "execution_count": null,
      "outputs": [
        {
          "output_type": "stream",
          "name": "stdout",
          "text": [
            "4321\n",
            "4321\n"
          ]
        }
      ]
    },
    {
      "cell_type": "code",
      "source": [
        "truckid = '13E122-32'\n",
        "label = \"invalid\"\n",
        "listvalid = ['A','E','I','O','U','Y']\n",
        "sumnumber = 0\n",
        "for i in range (0, 10):\n",
        "    if truckid[0:2].isnumeric() and truckid[2].isalpha() and truckid[2].isupper() and truckid[3:6].isnumeric() and truckid[6]=='-' and truckid[7:9].isnumeric():\n",
        "        if truckid[i].isnumeric():\n",
        "           truckid = int(truckid[i])\n",
        "           sumnumber += truckid\n",
        "           if sumnumber%2 == 0:\n",
        "               label = 'valid'\n",
        "\n",
        "           else:\n",
        "               label = \"invalid\"\n",
        "\n",
        "        elif (truckid[i].isalpha()) and (truckid in listvalid):\n",
        "               label = 'valid'\n",
        "        else:\n",
        "            label = \"invalid\"\n",
        "    else:\n",
        "        label = 'invalid'\n",
        "\n",
        "return label\n",
        "\n",
        "print(label)"
      ],
      "metadata": {
        "id": "hC3AsxCdUcrg"
      },
      "execution_count": null,
      "outputs": []
    },
    {
      "cell_type": "code",
      "source": [
        "tuckid = '1DE121031'\n",
        "label = \"invalid\"\n",
        "listvalid = ['A','E','I','O','U','Y']\n",
        "sumnumber = 0\n",
        "\n",
        "#def checkvalid(truckid):\n",
        "for num in truckid:\n",
        "\n",
        "    if num.isnumeric():\n",
        "      sumnumber = sumnumber + int(num)\n",
        "      if sumnumber % 2 == 0:\n",
        "        label = 'valid'\n",
        "\n",
        "    elif num.isalpha() and num in listvalid:\n",
        "      label = 'valid'\n",
        "\n",
        "    else:\n",
        "      label = 'invalid'\n",
        "\n",
        "\n",
        "\n",
        "#print(checkvalid('1E3121C32'))\n",
        "print(label)"
      ],
      "metadata": {
        "id": "Y3bm3T4FGDGa",
        "colab": {
          "base_uri": "https://localhost:8080/"
        },
        "outputId": "03b4835b-d3a9-444c-c73c-53cd4343da3d"
      },
      "execution_count": null,
      "outputs": [
        {
          "output_type": "stream",
          "name": "stdout",
          "text": [
            "valid\n"
          ]
        }
      ]
    },
    {
      "cell_type": "code",
      "source": [
        "def check_truck_serial(serial_number):\n",
        "    # List of valid vowels\n",
        "    valid_vowels = ['A', 'E', 'I', 'O', 'U', 'Y']\n",
        "\n",
        "    # Initialize the sum of digits\n",
        "    sum_digits = 0\n",
        "\n",
        "    # Extract the letter to be checked and digits\n",
        "    letter_to_check = serial_number[2]\n",
        "    hyphencheck = serial_number[6]\n",
        "\n",
        "    # Loop through each character in the serial number\n",
        "    for char in serial_number:\n",
        "        if char.isnumeric():\n",
        "            sum_digits += int(char)\n",
        "\n",
        "    # Check if the sum of digits is even\n",
        "    is_sum_even = (sum_digits % 2 == 0)\n",
        "\n",
        "    # Check if the letter at index 2 is a valid vowel\n",
        "    is_valid_letter = (letter_to_check in valid_vowels)\n",
        "\n",
        "    # Check if the hyphen at index 6 is valid\n",
        "    is_valid_hyphen = (hyphencheck == '-')\n",
        "\n",
        "    # Determine if the serial number is valid\n",
        "    if is_sum_even and is_valid_letter and is_valid_hyphen:\n",
        "        return \"valid\"\n",
        "    else:\n",
        "        return \"invalid\"\n",
        "\n",
        "# Sample inputs\n",
        "print(check_truck_serial(\"13E122-32\"))  # Output: valid\n",
        "print(check_truck_serial(\"15G234-56\"))  # Output: invalid\n",
        "print(check_truck_serial(\"13E122132\"))\n",
        "print(check_truck_serial(\"1E32Y4-26\"))"
      ],
      "metadata": {
        "colab": {
          "base_uri": "https://localhost:8080/"
        },
        "id": "IJJPxeZ4F9SU",
        "outputId": "de0b96e1-25b4-4c24-c937-8564c8390edb"
      },
      "execution_count": null,
      "outputs": [
        {
          "output_type": "stream",
          "name": "stdout",
          "text": [
            "valid\n",
            "invalid\n",
            "invalid\n",
            "invalid\n"
          ]
        }
      ]
    },
    {
      "cell_type": "code",
      "source": [
        "# Write your code below\n",
        "word = \"engaging\"\n",
        "repeat = []\n",
        "for i in word:\n",
        "    if word.count(i) > 1:\n",
        "        if i not in repeat:\n",
        "            repeat.append(i)\n",
        "\n",
        "print(repeat)"
      ],
      "metadata": {
        "id": "GVhJvuCDpgp9",
        "colab": {
          "base_uri": "https://localhost:8080/"
        },
        "outputId": "b7d6ff32-92c8-4dca-eac1-e026283fbf19"
      },
      "execution_count": null,
      "outputs": [
        {
          "output_type": "stream",
          "name": "stdout",
          "text": [
            "['n', 'g']\n"
          ]
        }
      ]
    },
    {
      "cell_type": "code",
      "source": [
        "#printing * patterns\n",
        "\n",
        "for i in range(0,10):\n",
        "    print('*'*i)"
      ],
      "metadata": {
        "id": "wegiodSW5olE",
        "colab": {
          "base_uri": "https://localhost:8080/"
        },
        "outputId": "9214ab30-e047-4e21-ca78-b49c70854195"
      },
      "execution_count": 4,
      "outputs": [
        {
          "output_type": "stream",
          "name": "stdout",
          "text": [
            "\n",
            "*\n",
            "**\n",
            "***\n",
            "****\n",
            "*****\n",
            "******\n",
            "*******\n",
            "********\n",
            "*********\n"
          ]
        }
      ]
    },
    {
      "cell_type": "code",
      "source": [],
      "metadata": {
        "id": "ZU-B5aFcxvtE"
      },
      "execution_count": null,
      "outputs": []
    }
  ]
}