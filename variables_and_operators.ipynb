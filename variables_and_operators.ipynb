{
  "nbformat": 4,
  "nbformat_minor": 0,
  "metadata": {
    "colab": {
      "provenance": [],
      "authorship_tag": "ABX9TyPiG2Ts2jx1MAPM9QxvpTY0",
      "include_colab_link": true
    },
    "kernelspec": {
      "name": "python3",
      "display_name": "Python 3"
    },
    "language_info": {
      "name": "python"
    }
  },
  "cells": [
    {
      "cell_type": "markdown",
      "metadata": {
        "id": "view-in-github",
        "colab_type": "text"
      },
      "source": [
        "<a href=\"https://colab.research.google.com/github/umanggupta598/umang-codes/blob/main/variables_and_operators.ipynb\" target=\"_parent\"><img src=\"https://colab.research.google.com/assets/colab-badge.svg\" alt=\"Open In Colab\"/></a>"
      ]
    },
    {
      "cell_type": "code",
      "execution_count": 2,
      "metadata": {
        "colab": {
          "base_uri": "https://localhost:8080/"
        },
        "id": "dBdWGVPjZtxd",
        "outputId": "71d6b444-b620-46ca-b357-8f4f0b5d064d"
      },
      "outputs": [
        {
          "output_type": "stream",
          "name": "stdout",
          "text": [
            "My name is Umang. My surname is Gupta\n",
            "My age is 25\n",
            "I obtained marks: 95.0\n"
          ]
        }
      ],
      "source": [
        "name = 'Umang'\n",
        "surname = 'Gupta'\n",
        "age = 25\n",
        "marks = 95.0\n",
        "print('My name is' , name, end=\". \")\n",
        "print('My surname is' , surname)\n",
        "print('My age is' , age)\n",
        "print('I obtained marks:' , marks)"
      ]
    },
    {
      "cell_type": "code",
      "source": [
        "print(name , '\\n' , surname , '\\n' , age)"
      ],
      "metadata": {
        "colab": {
          "base_uri": "https://localhost:8080/"
        },
        "id": "doqTUgRla0yd",
        "outputId": "808fa9f2-e9c1-4608-c5a4-4926ef7b9113"
      },
      "execution_count": 4,
      "outputs": [
        {
          "output_type": "stream",
          "name": "stdout",
          "text": [
            "Umang \n",
            " Gupta \n",
            " 25\n"
          ]
        }
      ]
    },
    {
      "cell_type": "code",
      "source": [
        "name = input('enter your name: ')\n",
        "surname = input('enter your surname : ')\n",
        "print('hello ', name , ' ' , surname)"
      ],
      "metadata": {
        "colab": {
          "base_uri": "https://localhost:8080/"
        },
        "id": "hyvgCsmEbVNl",
        "outputId": "1edd3cb3-02d7-44ef-f9fe-ae150830379e"
      },
      "execution_count": 2,
      "outputs": [
        {
          "output_type": "stream",
          "name": "stdout",
          "text": [
            "enter your name: Umang\n",
            "enter your surname : Gupta\n",
            "hello  Umang   Gupta\n"
          ]
        }
      ]
    },
    {
      "cell_type": "code",
      "source": [
        "#arithmetic operators"
      ],
      "metadata": {
        "id": "10Cef7NrB-P7"
      },
      "execution_count": null,
      "outputs": []
    },
    {
      "cell_type": "code",
      "source": [
        "print(type(name))"
      ],
      "metadata": {
        "colab": {
          "base_uri": "https://localhost:8080/"
        },
        "id": "suz0ZXH2CDoa",
        "outputId": "50fa2655-c4b5-469e-ef55-76a46353d78e"
      },
      "execution_count": 5,
      "outputs": [
        {
          "output_type": "stream",
          "name": "stdout",
          "text": [
            "<class 'str'>\n"
          ]
        }
      ]
    },
    {
      "cell_type": "code",
      "source": [
        "age = 25\n",
        "marks = 95.0\n",
        "name = 'um'\n",
        "surname = \"sh\"\n",
        "\n",
        "\n",
        "print(type(age))\n",
        "print(type(marks))\n",
        "print(type(name))\n",
        "print(type(surname))\n"
      ],
      "metadata": {
        "colab": {
          "base_uri": "https://localhost:8080/"
        },
        "id": "T0X6oj-0CbyX",
        "outputId": "bbe1930a-ceac-4f3d-80ee-0ad5be6c8d87"
      },
      "execution_count": 9,
      "outputs": [
        {
          "output_type": "stream",
          "name": "stdout",
          "text": [
            "<class 'int'>\n",
            "<class 'float'>\n",
            "<class 'str'>\n",
            "<class 'str'>\n"
          ]
        }
      ]
    },
    {
      "cell_type": "code",
      "source": [
        "a = int(input(\"enter number 1 : \"))\n",
        "b = int(input(\"enter number 2 \"))\n",
        "print(\" sum is \" , a+b)\n",
        "print( \" difference is \" , a-b)\n",
        "print( \" multiplication is \" , a*b)\n",
        "print(\" division is \" , a/b)\n",
        "print(\" number1's power to number 2 is \" , a**b)\n",
        "print(\" quotient of num1 divide by num2 is \" , a//b)\n",
        "print(\" remainder of num1 divide by num2 is is \" , a%b)\n"
      ],
      "metadata": {
        "colab": {
          "base_uri": "https://localhost:8080/"
        },
        "id": "iKCdzAutDAkg",
        "outputId": "b0a47df0-1c7f-4737-a357-75630cf162a1"
      },
      "execution_count": 12,
      "outputs": [
        {
          "output_type": "stream",
          "name": "stdout",
          "text": [
            "enter number 1 : 25\n",
            "enter number 2 3\n",
            " sum is  28\n",
            " difference is  22\n",
            " multiplication is  75\n",
            " division is  8.333333333333334\n",
            " number1's power to number 2 is  15625\n",
            " quotient of num1 divide by num2 is  8\n",
            " remainder of num1 divide by num2 is is  1\n"
          ]
        }
      ]
    },
    {
      "cell_type": "code",
      "source": [
        "##maths function\n",
        "import math\n",
        "a = int(input('enter the number : '))\n",
        "print(math.sqrt(a))\n",
        "print(math.log(a,10))\n",
        "print(math.cos(a))\n",
        "print(math.pow(a,2))\n",
        "print(math.pi)"
      ],
      "metadata": {
        "colab": {
          "base_uri": "https://localhost:8080/"
        },
        "id": "OposqWWPDOr2",
        "outputId": "9e2868ef-b3c1-43ca-cecb-b49009518e9d"
      },
      "execution_count": 22,
      "outputs": [
        {
          "output_type": "stream",
          "name": "stdout",
          "text": [
            "enter the number : 90\n",
            "9.486832980505138\n",
            "1.9542425094393248\n",
            "-0.4480736161291701\n",
            "8100.0\n",
            "3.141592653589793\n"
          ]
        }
      ]
    },
    {
      "cell_type": "code",
      "source": [
        "#assignment operators\n",
        "a = 10\n",
        "a += 10\n",
        "b = 20\n",
        "b -= 5\n",
        "c = 30\n",
        "c *= 3\n",
        "d = 40\n",
        "d /= 4\n",
        "print(a)\n",
        "print(b)\n",
        "print(c)\n",
        "print(d)"
      ],
      "metadata": {
        "colab": {
          "base_uri": "https://localhost:8080/"
        },
        "id": "fcKk4FSvGcs-",
        "outputId": "eb35120f-9f4b-4502-ffb2-fa9b1d7972bb"
      },
      "execution_count": 24,
      "outputs": [
        {
          "output_type": "stream",
          "name": "stdout",
          "text": [
            "20\n",
            "15\n",
            "90\n",
            "10.0\n"
          ]
        }
      ]
    },
    {
      "cell_type": "code",
      "source": [
        "#comparison operators\n",
        "a = int(input('enter number 1 :'))\n",
        "b = int(input('enter number 2 :'))\n",
        "print(a)\n",
        "print(b)\n",
        "print(a==b)\n",
        "print((a<b) and (b>2))\n",
        "print((a<b) or (a>10))\n",
        "print(not(a==b))\n",
        "print(type(not(a!=b)))"
      ],
      "metadata": {
        "colab": {
          "base_uri": "https://localhost:8080/"
        },
        "id": "UQO_N51BIfm0",
        "outputId": "15b275dd-fb87-4646-bc26-558484de6138"
      },
      "execution_count": 28,
      "outputs": [
        {
          "output_type": "stream",
          "name": "stdout",
          "text": [
            "enter number 1 :20\n",
            "enter number 2 :40\n",
            "20\n",
            "40\n",
            "False\n",
            "True\n",
            "True\n",
            "True\n",
            "<class 'bool'>\n"
          ]
        }
      ]
    }
  ]
}