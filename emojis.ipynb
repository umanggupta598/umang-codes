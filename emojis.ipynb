{
 "cells": [
  {
   "cell_type": "code",
   "execution_count": 49,
   "id": "baac43dc-97cf-4be5-ba3f-e468b831ec2f",
   "metadata": {
    "scrolled": true
   },
   "outputs": [
    {
     "name": "stdout",
     "output_type": "stream",
     "text": [
      "Requirement already satisfied: emoji in c:\\users\\umang\\anaconda3\\lib\\site-packages (2.12.1)\n",
      "Requirement already satisfied: typing-extensions>=4.7.0 in c:\\users\\umang\\anaconda3\\lib\\site-packages (from emoji) (4.11.0)\n",
      "I ❤️ you\n",
      "☺️\n",
      "😠\n",
      "😴\n",
      "🤔\n",
      "❤️ 💛 💜 💚 💙 🧡 🩷\n"
     ]
    }
   ],
   "source": [
    "!pip install emoji\n",
    "import emoji\n",
    "print(emoji.emojize('I :red_heart: you'))\n",
    "print(emoji.emojize(':smiling_face:'))\n",
    "print(emoji.emojize(':angry_face:'))\n",
    "print(emoji.emojize(':sleeping_face:'))\n",
    "print(emoji.emojize(':thinking_face:'))\n",
    "print(emoji.emojize(':red_heart: :yellow_heart: :purple_heart: :green_heart: :blue_heart: :orange_heart: :pink_heart:'))"
   ]
  }
 ],
 "metadata": {
  "kernelspec": {
   "display_name": "Python 3 (ipykernel)",
   "language": "python",
   "name": "python3"
  },
  "language_info": {
   "codemirror_mode": {
    "name": "ipython",
    "version": 3
   },
   "file_extension": ".py",
   "mimetype": "text/x-python",
   "name": "python",
   "nbconvert_exporter": "python",
   "pygments_lexer": "ipython3",
   "version": "3.12.4"
  }
 },
 "nbformat": 4,
 "nbformat_minor": 5
}
