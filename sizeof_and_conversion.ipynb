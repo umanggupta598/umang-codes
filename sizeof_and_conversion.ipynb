{
  "nbformat": 4,
  "nbformat_minor": 0,
  "metadata": {
    "colab": {
      "provenance": [],
      "authorship_tag": "ABX9TyPMqE67JMMMroBXbrJUyPbV",
      "include_colab_link": true
    },
    "kernelspec": {
      "name": "python3",
      "display_name": "Python 3"
    },
    "language_info": {
      "name": "python"
    }
  },
  "cells": [
    {
      "cell_type": "markdown",
      "metadata": {
        "id": "view-in-github",
        "colab_type": "text"
      },
      "source": [
        "<a href=\"https://colab.research.google.com/github/umanggupta598/umang-codes/blob/main/sizeof_and_conversion.ipynb\" target=\"_parent\"><img src=\"https://colab.research.google.com/assets/colab-badge.svg\" alt=\"Open In Colab\"/></a>"
      ]
    },
    {
      "cell_type": "code",
      "execution_count": 2,
      "metadata": {
        "colab": {
          "base_uri": "https://localhost:8080/"
        },
        "id": "bjDd-0W_ncZI",
        "outputId": "0a7c4bbb-0eaf-4bba-8590-8950960d3789"
      },
      "outputs": [
        {
          "output_type": "stream",
          "name": "stdout",
          "text": [
            "enter the no. :5\n",
            "enter the no. 2 :6\n",
            "5.0\n",
            "6.0\n"
          ]
        }
      ],
      "source": [
        "a = int(input('enter the no. :'))\n",
        "b = int(input('enter the no. 2 :'))\n",
        "print(float(a))\n",
        "print(float(b))"
      ]
    },
    {
      "cell_type": "code",
      "source": [
        "c = float(input('enter the no. '))\n",
        "print(int(c))\n"
      ],
      "metadata": {
        "colab": {
          "base_uri": "https://localhost:8080/"
        },
        "id": "YWmzK5vUnrY7",
        "outputId": "70a48ea0-a0a2-4a8f-af22-d5bca0290ef4"
      },
      "execution_count": 5,
      "outputs": [
        {
          "output_type": "stream",
          "name": "stdout",
          "text": [
            "enter the no. 10.56\n",
            "10\n"
          ]
        }
      ]
    },
    {
      "cell_type": "code",
      "source": [
        "a , b , c = 1, 3 , 'Umang'\n",
        "print(a)\n",
        "print(b)\n",
        "print(c)\n",
        "\n",
        "d= 1, 2.0 , 'hello'\n",
        "print(d)\n",
        "print(type(d))"
      ],
      "metadata": {
        "colab": {
          "base_uri": "https://localhost:8080/"
        },
        "id": "0k6uXPJn5UuI",
        "outputId": "bf61cee1-9cae-4ef1-a23a-79b6ef5eb1b7"
      },
      "execution_count": 5,
      "outputs": [
        {
          "output_type": "stream",
          "name": "stdout",
          "text": [
            "1\n",
            "3\n",
            "Umang\n",
            "(1, 2.0, 'hello')\n",
            "<class 'tuple'>\n"
          ]
        }
      ]
    },
    {
      "cell_type": "code",
      "source": [
        "e = [1,2,3,4,5]\n",
        "print(e)\n",
        "print(type(e))"
      ],
      "metadata": {
        "colab": {
          "base_uri": "https://localhost:8080/"
        },
        "id": "A8B_iPZ95cT4",
        "outputId": "e96deb86-8653-46cd-e061-469f66128e7a"
      },
      "execution_count": 10,
      "outputs": [
        {
          "output_type": "stream",
          "name": "stdout",
          "text": [
            "[1, 2, 3, 4, 5]\n",
            "<class 'list'>\n"
          ]
        }
      ]
    },
    {
      "cell_type": "code",
      "source": [
        "import sys\n",
        "\n",
        "str = \"Hello Hi everyone\"\n",
        "intgr = 123456\n",
        "flt = 12.4\n",
        "bln = True\n",
        "print(str)\n",
        "print(intgr)\n",
        "print(flt)\n",
        "print(bln)\n",
        "\n",
        "print('the size of string is ', sys.getsizeof(str))             #17 characters including spaces\n",
        "print('the size of integer is ', sys.getsizeof(intgr))          #6\n",
        "print('the size of float is ', sys.getsizeof(flt))              #4(including decimals)\n",
        "print('the size of boolean is ', sys.getsizeof(bln))            #true = 4\n",
        "\n"
      ],
      "metadata": {
        "colab": {
          "base_uri": "https://localhost:8080/"
        },
        "id": "_jz9ZBSc7RtL",
        "outputId": "a7196f49-8760-49b0-a286-7ebda5bf6c83"
      },
      "execution_count": 8,
      "outputs": [
        {
          "output_type": "stream",
          "name": "stdout",
          "text": [
            "Hello Hi everyone\n",
            "123456\n",
            "12.4\n",
            "True\n",
            "the size of string is  66\n",
            "the size of integer is  28\n",
            "the size of float is  24\n",
            "the size of boolean is  28\n",
            "\n"
          ]
        }
      ]
    },
    {
      "cell_type": "code",
      "source": [
        "numi = 12\n",
        "numf = 10.5\n",
        "print(numi + numf)\n",
        "print(type(numi + numf))\n",
        "\n",
        "numfinal = int(numf)\n",
        "print(numfinal)\n",
        "print(type(numfinal))\n",
        "\n",
        "numfinal2 = float(numi)\n",
        "print(numi)\n",
        "print(numfinal2)\n",
        "print(type(numfinal2))\n",
        "\n",
        "string = \"15\"             #doubtful: why is it converting string'15' into integer without error?\n",
        "numfinal3 = int(string)\n",
        "print(numfinal3)\n",
        "print(type(numfinal3))"
      ],
      "metadata": {
        "colab": {
          "base_uri": "https://localhost:8080/"
        },
        "id": "JYZIT3Y8ygqR",
        "outputId": "2b4a1614-f63b-400b-87f2-383cd04f8848"
      },
      "execution_count": 19,
      "outputs": [
        {
          "output_type": "stream",
          "name": "stdout",
          "text": [
            "22.5\n",
            "<class 'float'>\n",
            "10\n",
            "<class 'int'>\n",
            "12\n",
            "12.0\n",
            "<class 'float'>\n",
            "15\n",
            "<class 'int'>\n"
          ]
        }
      ]
    },
    {
      "cell_type": "code",
      "source": [
        "boolean1, boolean2 = True , False\n",
        "integer , integer2 = int(boolean) ,  int(boolean2)\n",
        "print(integer)\n",
        "print(type(integer))\n",
        "print(integer2)\n",
        "print(type(integer2))"
      ],
      "metadata": {
        "colab": {
          "base_uri": "https://localhost:8080/"
        },
        "id": "afwe_51M1B2S",
        "outputId": "4be31e97-795d-45a5-88e0-7b1b86926e1a"
      },
      "execution_count": 21,
      "outputs": [
        {
          "output_type": "stream",
          "name": "stdout",
          "text": [
            "1\n",
            "<class 'int'>\n",
            "0\n",
            "<class 'int'>\n"
          ]
        }
      ]
    },
    {
      "cell_type": "code",
      "source": [
        "inte1 , inte2, inte3 = 10 , -10.8 , 0               #note that positive and negative integers and float, both are positive, i.e. true\n",
        "bool1 , bool2, bool3 = bool(inte1) , bool(inte2) , bool(inte3)\n",
        "print(bool1)\n",
        "print(bool2)\n",
        "print(bool3)\n",
        "print(type(bool1))\n",
        "print(type(bool2))\n",
        "print(type(bool3))"
      ],
      "metadata": {
        "colab": {
          "base_uri": "https://localhost:8080/"
        },
        "id": "zJhxspxq1lxQ",
        "outputId": "d478a608-0d0b-45a4-f866-f5fc71406b3d"
      },
      "execution_count": 24,
      "outputs": [
        {
          "output_type": "stream",
          "name": "stdout",
          "text": [
            "True\n",
            "True\n",
            "False\n",
            "<class 'bool'>\n",
            "<class 'bool'>\n",
            "<class 'bool'>\n"
          ]
        }
      ]
    }
  ]
}